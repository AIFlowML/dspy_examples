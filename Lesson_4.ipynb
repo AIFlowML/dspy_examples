{
 "cells": [
  {
   "cell_type": "markdown",
   "id": "8203e759-9961-4ab9-91b3-231c89ef914e",
   "metadata": {},
   "source": [
    "# L4: Optimize DSPy Agent with DSPy Optimizer"
   ]
  },
  {
   "cell_type": "code",
   "execution_count": 3,
   "id": "dd51df46-d210-4a84-9ad8-9d629b131e59",
   "metadata": {
    "height": 115
   },
   "outputs": [],
   "source": [
    "import os\n",
    "from dotenv import load_dotenv\n",
    "\n",
    "load_dotenv()\n",
    "\n",
    "os.environ[\"OPENAI_API_KEY\"]  = os.getenv(\"OPENAI_API_KEY\")"
   ]
  },
  {
   "cell_type": "code",
   "execution_count": 4,
   "id": "a6293ba0-e1f1-47c8-8a99-7870e125400b",
   "metadata": {
    "height": 30
   },
   "outputs": [],
   "source": [
    "import mlflow"
   ]
  },
  {
   "cell_type": "code",
   "execution_count": 5,
   "id": "062e419f-3c89-4bfc-b982-c2601495ee03",
   "metadata": {
    "height": 81
   },
   "outputs": [],
   "source": [
    "import os\n",
    "from dotenv import load_dotenv, find_dotenv\n",
    "\n",
    "# these expect to find a .env file at the directory above the lesson.    # the format for that file is (without the comment)                      #API_KEYNAME=AStringThatIsTheLongAPIKeyFromSomeService                                                            \n",
    "def load_env():\n",
    "    _ = load_dotenv(find_dotenv())\n",
    "\n",
    "def get_openai_api_key():\n",
    "    load_env()\n",
    "    openai_api_key = os.getenv(\"OPENAI_API_KEY\")\n",
    "    return openai_api_key\n",
    "\n",
    "def get_mlflow_tracking_uri():\n",
    "    load_env()\n",
    "    # Try to get from environment, fallback to default\n",
    "    dlai_url = os.environ.get('DLAI_LOCAL_URL', 'http://localhost:{port}')\n",
    "    return dlai_url.format(port=8080)\n",
    "\n",
    "mlflow_tracking_uri = get_mlflow_tracking_uri()\n",
    "mlflow.set_tracking_uri(mlflow_tracking_uri)"
   ]
  },
  {
   "cell_type": "code",
   "execution_count": 6,
   "id": "859b1c04-f989-4432-a0c5-3353b7e1c25e",
   "metadata": {
    "height": 30
   },
   "outputs": [
    {
     "name": "stderr",
     "output_type": "stream",
     "text": [
      "2025/06/14 11:10:52 INFO mlflow.tracking.fluent: Experiment with name 'dspy_course_4' does not exist. Creating a new experiment.\n"
     ]
    },
    {
     "data": {
      "text/plain": [
       "<Experiment: artifact_location='mlflow-artifacts:/322957703646966226', creation_time=1749874252307, experiment_id='322957703646966226', last_update_time=1749874252307, lifecycle_stage='active', name='dspy_course_4', tags={}>"
      ]
     },
     "execution_count": 6,
     "metadata": {},
     "output_type": "execute_result"
    }
   ],
   "source": [
    "mlflow.set_experiment(\"dspy_course_4\")"
   ]
  },
  {
   "cell_type": "code",
   "execution_count": 9,
   "id": "19607589-df48-4d9b-b8cb-90d72a5ea296",
   "metadata": {
    "height": 30
   },
   "outputs": [],
   "source": [
    "mlflow.dspy.autolog(log_evals=True, log_compiles=True, log_traces_from_compile=True)"
   ]
  },
  {
   "cell_type": "code",
   "execution_count": 10,
   "id": "bbb72726-3fb3-4976-9438-16642347cee8",
   "metadata": {
    "height": 64
   },
   "outputs": [],
   "source": [
    "import dspy\n",
    "\n",
    "dspy.configure(lm=dspy.LM(\"openai/gpt-4o-mini\"))"
   ]
  },
  {
   "cell_type": "markdown",
   "id": "584f9729-1333-4e85-babb-924fca89f0d3",
   "metadata": {},
   "source": [
    "## Build a RAG Agent"
   ]
  },
  {
   "cell_type": "code",
   "execution_count": 23,
   "id": "dcf83eee-ac47-4893-bf07-83c702bb3e8e",
   "metadata": {
    "height": 98
   },
   "outputs": [],
   "source": [
    "def search_wikipedia(query: str) -> list[str]:\n",
    "    results = dspy.ColBERTv2(url=\"http://20.102.90.50:2017/wiki17_abstracts\")(query, k=3)\n",
    "    return [x[\"text\"] for x in results]\n",
    "\n",
    "react = dspy.ReAct(\"question -> answer\", tools=[search_wikipedia])"
   ]
  },
  {
   "cell_type": "code",
   "execution_count": 25,
   "id": "be77a703-efc5-453e-b854-db69cf51d3b0",
   "metadata": {
    "height": 234
   },
   "outputs": [],
   "source": [
    "import json\n",
    "\n",
    "# Load trainset\n",
    "trainset = []\n",
    "with open(\"trainset.jsonl\", \"r\") as f:\n",
    "    for line in f:\n",
    "        trainset.append(dspy.Example(**json.loads(line)).with_inputs(\"question\"))\n",
    "\n",
    "# Load valset\n",
    "valset = []\n",
    "with open(\"valset.jsonl\", \"r\") as f:\n",
    "    for line in f:\n",
    "        valset.append(dspy.Example(**json.loads(line)).with_inputs(\"question\"))"
   ]
  },
  {
   "cell_type": "code",
   "execution_count": 26,
   "id": "cc78279c-1f0e-4719-8c7b-9c87d6a3af34",
   "metadata": {
    "height": 47
   },
   "outputs": [
    {
     "name": "stdout",
     "output_type": "stream",
     "text": [
      "Example({'question': 'Are Smyrnium and Nymania both types of plant?', 'answer': 'yes'}) (input_keys={'question'})\n"
     ]
    }
   ],
   "source": [
    "# Overview of the dataset.\n",
    "print(trainset[0])"
   ]
  },
  {
   "cell_type": "code",
   "execution_count": 27,
   "id": "0cffda9e-5308-4ae0-8100-4a4127b5f269",
   "metadata": {
    "height": 98
   },
   "outputs": [],
   "source": [
    "tp = dspy.MIPROv2(\n",
    "    metric=dspy.evaluate.answer_exact_match,\n",
    "    auto=\"light\",\n",
    "    num_threads=16\n",
    ")"
   ]
  },
  {
   "cell_type": "code",
   "execution_count": 29,
   "id": "57a19e27-d0f3-4f29-a40e-d38e98012931",
   "metadata": {
    "height": 30
   },
   "outputs": [],
   "source": [
    "dspy.cache.load_memory_cache(\"./memory_cache.pkl\")"
   ]
  },
  {
   "cell_type": "code",
   "execution_count": 30,
   "id": "fb74703c-6a16-4635-aecf-a8cc5baa4a7f",
   "metadata": {
    "height": 115
   },
   "outputs": [
    {
     "name": "stderr",
     "output_type": "stream",
     "text": [
      "2025/06/14 11:24:17 INFO mlflow.utils.autologging_utils: Created MLflow autologging run with ID 'a26508f5320d4386af80a5a922813397', which will track hyperparameters, performance metrics, model artifacts, and lineage information for the current dspy workflow\n",
      "2025/06/14 11:24:17 INFO dspy.teleprompt.mipro_optimizer_v2: \n",
      "RUNNING WITH THE FOLLOWING LIGHT AUTO RUN SETTINGS:\n",
      "num_trials: 20\n",
      "minibatch: True\n",
      "num_fewshot_candidates: 6\n",
      "num_instruct_candidates: 3\n",
      "valset size: 100\n",
      "\n",
      "2025/06/14 11:24:17 INFO dspy.teleprompt.mipro_optimizer_v2: \n",
      "==> STEP 1: BOOTSTRAP FEWSHOT EXAMPLES <==\n",
      "2025/06/14 11:24:17 INFO dspy.teleprompt.mipro_optimizer_v2: These will be used as few-shot example candidates for our program and for creating instructions.\n",
      "\n",
      "2025/06/14 11:24:17 INFO dspy.teleprompt.mipro_optimizer_v2: Bootstrapping N=6 sets of demonstrations...\n",
      "2025/06/14 11:24:17 WARNING mlflow.utils.autologging_utils: MLflow autologging encountered a warning: \"/Users/ilessio/dev-agents/PARTNERS/dspy/.venv/lib/python3.13/site-packages/tqdm/auto.py:21: TqdmWarning: IProgress not found. Please update jupyter and ipywidgets. See https://ipywidgets.readthedocs.io/en/stable/user_install.html\"\n"
     ]
    },
    {
     "name": "stdout",
     "output_type": "stream",
     "text": [
      "Bootstrapping set 1/6\n",
      "Bootstrapping set 2/6\n",
      "Bootstrapping set 3/6\n"
     ]
    },
    {
     "name": "stderr",
     "output_type": "stream",
     "text": [
      "Downloading artifacts: 100%|██████████| 1/1 [00:00<00:00, 2519.10it/s] \n",
      " 15%|█▌        | 15/100 [02:00<11:24,  8.05s/it]\n"
     ]
    },
    {
     "name": "stdout",
     "output_type": "stream",
     "text": [
      "Bootstrapped 4 full traces after 15 examples for up to 1 rounds, amounting to 15 attempts.\n"
     ]
    },
    {
     "name": "stderr",
     "output_type": "stream",
     "text": [
      "Downloading artifacts: 100%|██████████| 1/1 [00:00<00:00, 222.12it/s]\n"
     ]
    },
    {
     "name": "stdout",
     "output_type": "stream",
     "text": [
      "Bootstrapping set 4/6\n"
     ]
    },
    {
     "name": "stderr",
     "output_type": "stream",
     "text": [
      "Downloading artifacts: 100%|██████████| 1/1 [00:00<00:00, 242.49it/s]\n",
      "  1%|          | 1/100 [00:09<15:56,  9.66s/it]\n"
     ]
    },
    {
     "name": "stdout",
     "output_type": "stream",
     "text": [
      "Bootstrapped 1 full traces after 1 examples for up to 1 rounds, amounting to 1 attempts.\n"
     ]
    },
    {
     "name": "stderr",
     "output_type": "stream",
     "text": [
      "Downloading artifacts: 100%|██████████| 1/1 [00:00<00:00, 42.25it/s]\n"
     ]
    },
    {
     "name": "stdout",
     "output_type": "stream",
     "text": [
      "Bootstrapping set 5/6\n"
     ]
    },
    {
     "name": "stderr",
     "output_type": "stream",
     "text": [
      "Downloading artifacts: 100%|██████████| 1/1 [00:00<00:00, 89.08it/s]\n",
      "  8%|▊         | 8/100 [00:41<08:01,  5.23s/it]\n"
     ]
    },
    {
     "name": "stdout",
     "output_type": "stream",
     "text": [
      "Bootstrapped 4 full traces after 8 examples for up to 1 rounds, amounting to 8 attempts.\n"
     ]
    },
    {
     "name": "stderr",
     "output_type": "stream",
     "text": [
      "Downloading artifacts: 100%|██████████| 1/1 [00:00<00:00, 242.29it/s]\n"
     ]
    },
    {
     "name": "stdout",
     "output_type": "stream",
     "text": [
      "Bootstrapping set 6/6\n"
     ]
    },
    {
     "name": "stderr",
     "output_type": "stream",
     "text": [
      "Downloading artifacts: 100%|██████████| 1/1 [00:00<00:00, 261.70it/s]\n",
      "  2%|▏         | 2/100 [00:07<06:20,  3.89s/it]\n"
     ]
    },
    {
     "name": "stdout",
     "output_type": "stream",
     "text": [
      "Bootstrapped 1 full traces after 2 examples for up to 1 rounds, amounting to 2 attempts.\n"
     ]
    },
    {
     "name": "stderr",
     "output_type": "stream",
     "text": [
      "Downloading artifacts: 100%|██████████| 1/1 [00:00<00:00, 232.13it/s]\n",
      "2025/06/14 11:27:18 INFO dspy.teleprompt.mipro_optimizer_v2: \n",
      "==> STEP 2: PROPOSE INSTRUCTION CANDIDATES <==\n",
      "2025/06/14 11:27:18 INFO dspy.teleprompt.mipro_optimizer_v2: We will use the few-shot examples from the previous step, a generated dataset summary, a summary of the program code, and a randomly selected prompting tip to propose instructions.\n",
      "2025/06/14 11:27:48 INFO dspy.teleprompt.mipro_optimizer_v2: \n",
      "Proposing N=3 instructions...\n",
      "\n",
      "2025/06/14 11:28:37 INFO dspy.teleprompt.mipro_optimizer_v2: Proposed Instructions for Predictor 0:\n",
      "\n",
      "2025/06/14 11:28:37 INFO dspy.teleprompt.mipro_optimizer_v2: 0: Given the fields `question`, produce the fields `answer`.\n",
      "\n",
      "You are an Agent. In each episode, you will be given the fields `question` as input. And you can see your past trajectory so far.\n",
      "Your goal is to use one or more of the supplied tools to collect any necessary information for producing `answer`.\n",
      "\n",
      "To do this, you will interleave next_thought, next_tool_name, and next_tool_args in each turn, and also when finishing the task.\n",
      "After each tool call, you receive a resulting observation, which gets appended to your trajectory.\n",
      "\n",
      "When writing next_thought, you may reason about the current situation and plan for future steps.\n",
      "When selecting the next_tool_name and its next_tool_args, the tool must be one of:\n",
      "\n",
      "(1) search_wikipedia. It takes arguments {'query': {'type': 'string'}}.\n",
      "(2) finish, whose description is <desc>Marks the task as complete. That is, signals that all information for producing the outputs, i.e. `answer`, are now available to be extracted.</desc>. It takes arguments {}.\n",
      "When providing `next_tool_args`, the value inside the field must be in JSON format\n",
      "\n",
      "2025/06/14 11:28:37 INFO dspy.teleprompt.mipro_optimizer_v2: 1: Given the `question` about a specific topic, your task is to iteratively determine the necessary information needed to formulate a comprehensive `answer`. You will maintain a `trajectory` of your reasoning process and actions taken. For each step, produce the following outputs: \n",
      "\n",
      "1. `next_thought`: Reflect on the current situation and reason about the next steps you need to take to gather information.\n",
      "2. `next_tool_name`: Decide which tool to use next; you can choose to either search Wikipedia for relevant information or finish the task if you believe you have enough data to provide an answer.\n",
      "3. `next_tool_args`: Provide the arguments for the selected tool in JSON format, ensuring that the query for the Wikipedia search is clearly defined.\n",
      "\n",
      "Use the information from your `trajectory` to make informed decisions at each step, ensuring that you gather all necessary information before concluding your task.\n",
      "\n",
      "2025/06/14 11:28:37 INFO dspy.teleprompt.mipro_optimizer_v2: 2: You are an information retrieval agent tasked with answering questions by gathering data from Wikipedia. Given the fields `question` and `trajectory`, produce the fields `next_thought`, `next_tool_name`, and `next_tool_args`. Your `next_thought` should reflect your reasoning about what information is needed next, `next_tool_name` should specify the tool to be used (searching Wikipedia), and `next_tool_args` should provide the necessary parameters for the tool call. Remember to interleave these outputs in each turn until you decide to finish the task.\n",
      "\n",
      "2025/06/14 11:28:37 INFO dspy.teleprompt.mipro_optimizer_v2: \n",
      "\n",
      "2025/06/14 11:28:37 INFO dspy.teleprompt.mipro_optimizer_v2: Proposed Instructions for Predictor 1:\n",
      "\n",
      "2025/06/14 11:28:37 INFO dspy.teleprompt.mipro_optimizer_v2: 0: Given the fields `question`, produce the fields `answer`.\n",
      "\n",
      "2025/06/14 11:28:37 INFO dspy.teleprompt.mipro_optimizer_v2: 1: To effectively utilize the `Predict` module, analyze the provided `question` and `trajectory` to generate a coherent `reasoning` process that explains the thought process behind arriving at the final `answer`. Your response should clearly articulate how the information retrieved during the execution contributes to the conclusion, ensuring clarity and logical flow in the explanation. Aim to synthesize the insights gathered from previous steps and present a well-reasoned answer that directly addresses the question asked.\n",
      "\n",
      "2025/06/14 11:28:37 INFO dspy.teleprompt.mipro_optimizer_v2: 2: Using the provided `question` and the accumulated `trajectory`, generate a coherent reasoning narrative that leads to the final `answer`. Your response should reflect the thought process undertaken during the information retrieval task, ensuring accuracy and clarity in the conclusion drawn from the data collected.\n",
      "\n",
      "2025/06/14 11:28:37 INFO dspy.teleprompt.mipro_optimizer_v2: \n",
      "\n",
      "2025/06/14 11:28:37 INFO dspy.teleprompt.mipro_optimizer_v2: ==> STEP 3: FINDING OPTIMAL PROMPT PARAMETERS <==\n",
      "2025/06/14 11:28:37 INFO dspy.teleprompt.mipro_optimizer_v2: We will evaluate the program over a series of trials with different combinations of instructions and few-shot examples to find the optimal combination using Bayesian Optimization.\n",
      "\n",
      "2025/06/14 11:28:37 INFO dspy.teleprompt.mipro_optimizer_v2: == Trial 1 / 25 - Full Evaluation of Default Program ==\n"
     ]
    },
    {
     "name": "stdout",
     "output_type": "stream",
     "text": [
      "Average Metric: 29.00 / 100 (29.0%): 100%|██████████| 100/100 [00:59<00:00,  1.67it/s]"
     ]
    },
    {
     "name": "stderr",
     "output_type": "stream",
     "text": [
      "2025/06/14 11:29:37 INFO dspy.evaluate.evaluate: Average Metric: 29 / 100 (29.0%)\n",
      "2025/06/14 11:29:37 INFO dspy.teleprompt.mipro_optimizer_v2: Default program score: 29.0\n",
      "\n"
     ]
    },
    {
     "name": "stdout",
     "output_type": "stream",
     "text": [
      "\n",
      "🏃 View run eval_full_0 at: http://localhost:8080/#/experiments/322957703646966226/runs/fc5535abea3e486e85f46495ad8b5ab1\n",
      "🧪 View experiment at: http://localhost:8080/#/experiments/322957703646966226\n"
     ]
    },
    {
     "name": "stderr",
     "output_type": "stream",
     "text": [
      "/Users/ilessio/dev-agents/PARTNERS/dspy/.venv/lib/python3.13/site-packages/optuna/_experimental.py:31: ExperimentalWarning: Argument ``multivariate`` is an experimental feature. The interface can change in the future.\n",
      "  warnings.warn(\n",
      "2025/06/14 11:29:37 INFO dspy.teleprompt.mipro_optimizer_v2: == Trial 2 / 25 - Minibatch ==\n"
     ]
    },
    {
     "name": "stdout",
     "output_type": "stream",
     "text": [
      "Average Metric: 9.00 / 35 (25.7%): 100%|██████████| 35/35 [00:27<00:00,  1.29it/s]"
     ]
    },
    {
     "name": "stderr",
     "output_type": "stream",
     "text": [
      "2025/06/14 11:30:05 INFO dspy.evaluate.evaluate: Average Metric: 9 / 35 (25.7%)\n",
      "2025/06/14 11:30:05 INFO dspy.teleprompt.mipro_optimizer_v2: Score: 25.71 on minibatch of size 35 with parameters ['Predictor 0: Instruction 1', 'Predictor 0: Few-Shot Set 3', 'Predictor 1: Instruction 2', 'Predictor 1: Few-Shot Set 0'].\n",
      "2025/06/14 11:30:05 INFO dspy.teleprompt.mipro_optimizer_v2: Minibatch scores so far: [25.71]\n",
      "2025/06/14 11:30:05 INFO dspy.teleprompt.mipro_optimizer_v2: Full eval scores so far: [29.0]\n",
      "2025/06/14 11:30:05 INFO dspy.teleprompt.mipro_optimizer_v2: Best full score so far: 29.0\n",
      "2025/06/14 11:30:05 INFO dspy.teleprompt.mipro_optimizer_v2: =========================================\n",
      "\n",
      "\n",
      "2025/06/14 11:30:05 INFO dspy.teleprompt.mipro_optimizer_v2: == Trial 3 / 25 - Minibatch ==\n"
     ]
    },
    {
     "name": "stdout",
     "output_type": "stream",
     "text": [
      "\n",
      "🏃 View run eval_minibatch_0 at: http://localhost:8080/#/experiments/322957703646966226/runs/e6c5ff6acf4a47ec97b4c1417508b1fb\n",
      "🧪 View experiment at: http://localhost:8080/#/experiments/322957703646966226\n",
      "Average Metric: 19.00 / 35 (54.3%): 100%|██████████| 35/35 [00:19<00:00,  1.81it/s]"
     ]
    },
    {
     "name": "stderr",
     "output_type": "stream",
     "text": [
      "2025/06/14 11:30:24 INFO dspy.evaluate.evaluate: Average Metric: 19 / 35 (54.3%)\n"
     ]
    },
    {
     "name": "stdout",
     "output_type": "stream",
     "text": [
      "\n",
      "🏃 View run eval_minibatch_1 at: http://localhost:8080/#/experiments/322957703646966226/runs/45aa4ec123c6461284da8e6b125c5b76\n",
      "🧪 View experiment at: http://localhost:8080/#/experiments/322957703646966226\n"
     ]
    },
    {
     "name": "stderr",
     "output_type": "stream",
     "text": [
      "2025/06/14 11:30:24 INFO dspy.teleprompt.mipro_optimizer_v2: Score: 54.29 on minibatch of size 35 with parameters ['Predictor 0: Instruction 1', 'Predictor 0: Few-Shot Set 5', 'Predictor 1: Instruction 2', 'Predictor 1: Few-Shot Set 2'].\n",
      "2025/06/14 11:30:24 INFO dspy.teleprompt.mipro_optimizer_v2: Minibatch scores so far: [25.71, 54.29]\n",
      "2025/06/14 11:30:24 INFO dspy.teleprompt.mipro_optimizer_v2: Full eval scores so far: [29.0]\n",
      "2025/06/14 11:30:24 INFO dspy.teleprompt.mipro_optimizer_v2: Best full score so far: 29.0\n",
      "2025/06/14 11:30:24 INFO dspy.teleprompt.mipro_optimizer_v2: =========================================\n",
      "\n",
      "\n",
      "2025/06/14 11:30:24 INFO dspy.teleprompt.mipro_optimizer_v2: == Trial 4 / 25 - Minibatch ==\n"
     ]
    },
    {
     "name": "stdout",
     "output_type": "stream",
     "text": [
      "Average Metric: 14.00 / 35 (40.0%): 100%|██████████| 35/35 [00:24<00:00,  1.41it/s]"
     ]
    },
    {
     "name": "stderr",
     "output_type": "stream",
     "text": [
      "2025/06/14 11:30:49 INFO dspy.evaluate.evaluate: Average Metric: 14 / 35 (40.0%)\n",
      "2025/06/14 11:30:49 INFO dspy.teleprompt.mipro_optimizer_v2: Score: 40.0 on minibatch of size 35 with parameters ['Predictor 0: Instruction 0', 'Predictor 0: Few-Shot Set 5', 'Predictor 1: Instruction 2', 'Predictor 1: Few-Shot Set 0'].\n",
      "2025/06/14 11:30:49 INFO dspy.teleprompt.mipro_optimizer_v2: Minibatch scores so far: [25.71, 54.29, 40.0]\n",
      "2025/06/14 11:30:49 INFO dspy.teleprompt.mipro_optimizer_v2: Full eval scores so far: [29.0]\n",
      "2025/06/14 11:30:49 INFO dspy.teleprompt.mipro_optimizer_v2: Best full score so far: 29.0\n",
      "2025/06/14 11:30:49 INFO dspy.teleprompt.mipro_optimizer_v2: =========================================\n",
      "\n",
      "\n",
      "2025/06/14 11:30:49 INFO dspy.teleprompt.mipro_optimizer_v2: == Trial 5 / 25 - Minibatch ==\n"
     ]
    },
    {
     "name": "stdout",
     "output_type": "stream",
     "text": [
      "\n",
      "🏃 View run eval_minibatch_2 at: http://localhost:8080/#/experiments/322957703646966226/runs/ac92c293161444008d1d30a7e590465d\n",
      "🧪 View experiment at: http://localhost:8080/#/experiments/322957703646966226\n",
      "Average Metric: 18.00 / 35 (51.4%): 100%|██████████| 35/35 [00:23<00:00,  1.49it/s]"
     ]
    },
    {
     "name": "stderr",
     "output_type": "stream",
     "text": [
      "2025/06/14 11:31:13 INFO dspy.evaluate.evaluate: Average Metric: 18 / 35 (51.4%)\n",
      "2025/06/14 11:31:13 INFO dspy.teleprompt.mipro_optimizer_v2: Score: 51.43 on minibatch of size 35 with parameters ['Predictor 0: Instruction 2', 'Predictor 0: Few-Shot Set 5', 'Predictor 1: Instruction 1', 'Predictor 1: Few-Shot Set 4'].\n",
      "2025/06/14 11:31:13 INFO dspy.teleprompt.mipro_optimizer_v2: Minibatch scores so far: [25.71, 54.29, 40.0, 51.43]\n",
      "2025/06/14 11:31:13 INFO dspy.teleprompt.mipro_optimizer_v2: Full eval scores so far: [29.0]\n",
      "2025/06/14 11:31:13 INFO dspy.teleprompt.mipro_optimizer_v2: Best full score so far: 29.0\n",
      "2025/06/14 11:31:13 INFO dspy.teleprompt.mipro_optimizer_v2: =========================================\n",
      "\n",
      "\n",
      "2025/06/14 11:31:13 INFO dspy.teleprompt.mipro_optimizer_v2: == Trial 6 / 25 - Minibatch ==\n"
     ]
    },
    {
     "name": "stdout",
     "output_type": "stream",
     "text": [
      "\n",
      "🏃 View run eval_minibatch_3 at: http://localhost:8080/#/experiments/322957703646966226/runs/b6be249838e04f0085ca7b3a30d34027\n",
      "🧪 View experiment at: http://localhost:8080/#/experiments/322957703646966226\n",
      "Average Metric: 18.00 / 35 (51.4%): 100%|██████████| 35/35 [00:23<00:00,  1.51it/s]"
     ]
    },
    {
     "name": "stderr",
     "output_type": "stream",
     "text": [
      "2025/06/14 11:31:36 INFO dspy.evaluate.evaluate: Average Metric: 18 / 35 (51.4%)\n",
      "2025/06/14 11:31:36 INFO dspy.teleprompt.mipro_optimizer_v2: Score: 51.43 on minibatch of size 35 with parameters ['Predictor 0: Instruction 2', 'Predictor 0: Few-Shot Set 5', 'Predictor 1: Instruction 2', 'Predictor 1: Few-Shot Set 2'].\n",
      "2025/06/14 11:31:36 INFO dspy.teleprompt.mipro_optimizer_v2: Minibatch scores so far: [25.71, 54.29, 40.0, 51.43, 51.43]\n",
      "2025/06/14 11:31:36 INFO dspy.teleprompt.mipro_optimizer_v2: Full eval scores so far: [29.0]\n",
      "2025/06/14 11:31:36 INFO dspy.teleprompt.mipro_optimizer_v2: Best full score so far: 29.0\n",
      "2025/06/14 11:31:36 INFO dspy.teleprompt.mipro_optimizer_v2: =========================================\n",
      "\n",
      "\n",
      "2025/06/14 11:31:36 INFO dspy.teleprompt.mipro_optimizer_v2: ===== Trial 7 / 25 - Full Evaluation =====\n",
      "2025/06/14 11:31:36 INFO dspy.teleprompt.mipro_optimizer_v2: Doing full eval on next top averaging program (Avg Score: 54.29) from minibatch trials...\n"
     ]
    },
    {
     "name": "stdout",
     "output_type": "stream",
     "text": [
      "\n",
      "🏃 View run eval_minibatch_4 at: http://localhost:8080/#/experiments/322957703646966226/runs/6ac9197451a54ea296fb5a3e74418226\n",
      "🧪 View experiment at: http://localhost:8080/#/experiments/322957703646966226\n",
      "Average Metric: 48.00 / 100 (48.0%): 100%|██████████| 100/100 [00:30<00:00,  3.24it/s]"
     ]
    },
    {
     "name": "stderr",
     "output_type": "stream",
     "text": [
      "2025/06/14 11:32:07 INFO dspy.evaluate.evaluate: Average Metric: 48 / 100 (48.0%)\n",
      "2025/06/14 11:32:07 INFO dspy.teleprompt.mipro_optimizer_v2: \u001b[92mNew best full eval score!\u001b[0m Score: 48.0\n",
      "2025/06/14 11:32:07 INFO dspy.teleprompt.mipro_optimizer_v2: Full eval scores so far: [29.0, 48.0]\n",
      "2025/06/14 11:32:07 INFO dspy.teleprompt.mipro_optimizer_v2: Best full score so far: 48.0\n",
      "2025/06/14 11:32:07 INFO dspy.teleprompt.mipro_optimizer_v2: =======================\n",
      "2025/06/14 11:32:07 INFO dspy.teleprompt.mipro_optimizer_v2: \n",
      "\n",
      "2025/06/14 11:32:07 INFO dspy.teleprompt.mipro_optimizer_v2: == Trial 8 / 25 - Minibatch ==\n"
     ]
    },
    {
     "name": "stdout",
     "output_type": "stream",
     "text": [
      "\n",
      "🏃 View run eval_full_1 at: http://localhost:8080/#/experiments/322957703646966226/runs/39a5da873c8b47729001662a7ff8c01e\n",
      "🧪 View experiment at: http://localhost:8080/#/experiments/322957703646966226\n",
      "Average Metric: 14.00 / 35 (40.0%): 100%|██████████| 35/35 [00:22<00:00,  1.53it/s]"
     ]
    },
    {
     "name": "stderr",
     "output_type": "stream",
     "text": [
      "2025/06/14 11:32:30 INFO dspy.evaluate.evaluate: Average Metric: 14 / 35 (40.0%)\n",
      "2025/06/14 11:32:30 INFO dspy.teleprompt.mipro_optimizer_v2: Score: 40.0 on minibatch of size 35 with parameters ['Predictor 0: Instruction 0', 'Predictor 0: Few-Shot Set 5', 'Predictor 1: Instruction 0', 'Predictor 1: Few-Shot Set 0'].\n",
      "2025/06/14 11:32:30 INFO dspy.teleprompt.mipro_optimizer_v2: Minibatch scores so far: [25.71, 54.29, 40.0, 51.43, 51.43, 40.0]\n",
      "2025/06/14 11:32:30 INFO dspy.teleprompt.mipro_optimizer_v2: Full eval scores so far: [29.0, 48.0]\n",
      "2025/06/14 11:32:30 INFO dspy.teleprompt.mipro_optimizer_v2: Best full score so far: 48.0\n",
      "2025/06/14 11:32:30 INFO dspy.teleprompt.mipro_optimizer_v2: =========================================\n",
      "\n",
      "\n",
      "2025/06/14 11:32:30 INFO dspy.teleprompt.mipro_optimizer_v2: == Trial 9 / 25 - Minibatch ==\n"
     ]
    },
    {
     "name": "stdout",
     "output_type": "stream",
     "text": [
      "\n",
      "🏃 View run eval_minibatch_5 at: http://localhost:8080/#/experiments/322957703646966226/runs/8c81a1062cf243f7a11637edbb5a690e\n",
      "🧪 View experiment at: http://localhost:8080/#/experiments/322957703646966226\n",
      "Average Metric: 20.00 / 35 (57.1%): 100%|██████████| 35/35 [00:23<00:00,  1.52it/s]"
     ]
    },
    {
     "name": "stderr",
     "output_type": "stream",
     "text": [
      "2025/06/14 11:32:53 INFO dspy.evaluate.evaluate: Average Metric: 20 / 35 (57.1%)\n",
      "2025/06/14 11:32:53 INFO dspy.teleprompt.mipro_optimizer_v2: Score: 57.14 on minibatch of size 35 with parameters ['Predictor 0: Instruction 1', 'Predictor 0: Few-Shot Set 2', 'Predictor 1: Instruction 2', 'Predictor 1: Few-Shot Set 1'].\n",
      "2025/06/14 11:32:53 INFO dspy.teleprompt.mipro_optimizer_v2: Minibatch scores so far: [25.71, 54.29, 40.0, 51.43, 51.43, 40.0, 57.14]\n",
      "2025/06/14 11:32:53 INFO dspy.teleprompt.mipro_optimizer_v2: Full eval scores so far: [29.0, 48.0]\n",
      "2025/06/14 11:32:53 INFO dspy.teleprompt.mipro_optimizer_v2: Best full score so far: 48.0\n",
      "2025/06/14 11:32:53 INFO dspy.teleprompt.mipro_optimizer_v2: =========================================\n",
      "\n",
      "\n",
      "2025/06/14 11:32:53 INFO dspy.teleprompt.mipro_optimizer_v2: == Trial 10 / 25 - Minibatch ==\n"
     ]
    },
    {
     "name": "stdout",
     "output_type": "stream",
     "text": [
      "\n",
      "🏃 View run eval_minibatch_6 at: http://localhost:8080/#/experiments/322957703646966226/runs/14c0738062184ca2b484b75adf4f7499\n",
      "🧪 View experiment at: http://localhost:8080/#/experiments/322957703646966226\n",
      "Average Metric: 9.00 / 35 (25.7%): 100%|██████████| 35/35 [00:30<00:00,  1.17it/s]"
     ]
    },
    {
     "name": "stderr",
     "output_type": "stream",
     "text": [
      "2025/06/14 11:33:23 INFO dspy.evaluate.evaluate: Average Metric: 9 / 35 (25.7%)\n",
      "2025/06/14 11:33:23 INFO dspy.teleprompt.mipro_optimizer_v2: Score: 25.71 on minibatch of size 35 with parameters ['Predictor 0: Instruction 1', 'Predictor 0: Few-Shot Set 0', 'Predictor 1: Instruction 0', 'Predictor 1: Few-Shot Set 0'].\n",
      "2025/06/14 11:33:23 INFO dspy.teleprompt.mipro_optimizer_v2: Minibatch scores so far: [25.71, 54.29, 40.0, 51.43, 51.43, 40.0, 57.14, 25.71]\n",
      "2025/06/14 11:33:23 INFO dspy.teleprompt.mipro_optimizer_v2: Full eval scores so far: [29.0, 48.0]\n",
      "2025/06/14 11:33:23 INFO dspy.teleprompt.mipro_optimizer_v2: Best full score so far: 48.0\n",
      "2025/06/14 11:33:23 INFO dspy.teleprompt.mipro_optimizer_v2: ==========================================\n",
      "\n",
      "\n",
      "2025/06/14 11:33:23 INFO dspy.teleprompt.mipro_optimizer_v2: == Trial 11 / 25 - Minibatch ==\n"
     ]
    },
    {
     "name": "stdout",
     "output_type": "stream",
     "text": [
      "\n",
      "🏃 View run eval_minibatch_7 at: http://localhost:8080/#/experiments/322957703646966226/runs/f1af729334be4e249c12ade04619eaba\n",
      "🧪 View experiment at: http://localhost:8080/#/experiments/322957703646966226\n",
      "Average Metric: 14.00 / 35 (40.0%): 100%|██████████| 35/35 [00:20<00:00,  1.73it/s]"
     ]
    },
    {
     "name": "stderr",
     "output_type": "stream",
     "text": [
      "2025/06/14 11:33:44 INFO dspy.evaluate.evaluate: Average Metric: 14 / 35 (40.0%)\n",
      "2025/06/14 11:33:44 INFO dspy.teleprompt.mipro_optimizer_v2: Score: 40.0 on minibatch of size 35 with parameters ['Predictor 0: Instruction 1', 'Predictor 0: Few-Shot Set 2', 'Predictor 1: Instruction 1', 'Predictor 1: Few-Shot Set 1'].\n",
      "2025/06/14 11:33:44 INFO dspy.teleprompt.mipro_optimizer_v2: Minibatch scores so far: [25.71, 54.29, 40.0, 51.43, 51.43, 40.0, 57.14, 25.71, 40.0]\n",
      "2025/06/14 11:33:44 INFO dspy.teleprompt.mipro_optimizer_v2: Full eval scores so far: [29.0, 48.0]\n",
      "2025/06/14 11:33:44 INFO dspy.teleprompt.mipro_optimizer_v2: Best full score so far: 48.0\n",
      "2025/06/14 11:33:44 INFO dspy.teleprompt.mipro_optimizer_v2: ==========================================\n",
      "\n",
      "\n",
      "2025/06/14 11:33:44 INFO dspy.teleprompt.mipro_optimizer_v2: == Trial 12 / 25 - Minibatch ==\n"
     ]
    },
    {
     "name": "stdout",
     "output_type": "stream",
     "text": [
      "\n",
      "🏃 View run eval_minibatch_8 at: http://localhost:8080/#/experiments/322957703646966226/runs/3930bb67eab748f5a6d04d485710661c\n",
      "🧪 View experiment at: http://localhost:8080/#/experiments/322957703646966226\n",
      "Average Metric: 20.00 / 35 (57.1%): 100%|██████████| 35/35 [00:24<00:00,  1.45it/s]"
     ]
    },
    {
     "name": "stderr",
     "output_type": "stream",
     "text": [
      "2025/06/14 11:34:08 INFO dspy.evaluate.evaluate: Average Metric: 20 / 35 (57.1%)\n",
      "2025/06/14 11:34:08 INFO dspy.teleprompt.mipro_optimizer_v2: Score: 57.14 on minibatch of size 35 with parameters ['Predictor 0: Instruction 1', 'Predictor 0: Few-Shot Set 4', 'Predictor 1: Instruction 2', 'Predictor 1: Few-Shot Set 1'].\n",
      "2025/06/14 11:34:08 INFO dspy.teleprompt.mipro_optimizer_v2: Minibatch scores so far: [25.71, 54.29, 40.0, 51.43, 51.43, 40.0, 57.14, 25.71, 40.0, 57.14]\n",
      "2025/06/14 11:34:08 INFO dspy.teleprompt.mipro_optimizer_v2: Full eval scores so far: [29.0, 48.0]\n",
      "2025/06/14 11:34:08 INFO dspy.teleprompt.mipro_optimizer_v2: Best full score so far: 48.0\n",
      "2025/06/14 11:34:08 INFO dspy.teleprompt.mipro_optimizer_v2: ==========================================\n",
      "\n",
      "\n",
      "2025/06/14 11:34:08 INFO dspy.teleprompt.mipro_optimizer_v2: ===== Trial 13 / 25 - Full Evaluation =====\n",
      "2025/06/14 11:34:08 INFO dspy.teleprompt.mipro_optimizer_v2: Doing full eval on next top averaging program (Avg Score: 57.14) from minibatch trials...\n"
     ]
    },
    {
     "name": "stdout",
     "output_type": "stream",
     "text": [
      "\n",
      "🏃 View run eval_minibatch_9 at: http://localhost:8080/#/experiments/322957703646966226/runs/b4682582270b49a9908b8648527d7631\n",
      "🧪 View experiment at: http://localhost:8080/#/experiments/322957703646966226\n",
      "Average Metric: 50.00 / 100 (50.0%): 100%|██████████| 100/100 [00:29<00:00,  3.39it/s]"
     ]
    },
    {
     "name": "stderr",
     "output_type": "stream",
     "text": [
      "2025/06/14 11:34:37 INFO dspy.evaluate.evaluate: Average Metric: 50 / 100 (50.0%)\n",
      "2025/06/14 11:34:38 INFO dspy.teleprompt.mipro_optimizer_v2: \u001b[92mNew best full eval score!\u001b[0m Score: 50.0\n",
      "2025/06/14 11:34:38 INFO dspy.teleprompt.mipro_optimizer_v2: Full eval scores so far: [29.0, 48.0, 50.0]\n",
      "2025/06/14 11:34:38 INFO dspy.teleprompt.mipro_optimizer_v2: Best full score so far: 50.0\n",
      "2025/06/14 11:34:38 INFO dspy.teleprompt.mipro_optimizer_v2: =======================\n",
      "2025/06/14 11:34:38 INFO dspy.teleprompt.mipro_optimizer_v2: \n",
      "\n",
      "2025/06/14 11:34:38 INFO dspy.teleprompt.mipro_optimizer_v2: == Trial 14 / 25 - Minibatch ==\n"
     ]
    },
    {
     "name": "stdout",
     "output_type": "stream",
     "text": [
      "\n",
      "🏃 View run eval_full_2 at: http://localhost:8080/#/experiments/322957703646966226/runs/b0c75ec81bdf4049acbe8a360b616906\n",
      "🧪 View experiment at: http://localhost:8080/#/experiments/322957703646966226\n",
      "Average Metric: 17.00 / 35 (48.6%): 100%|██████████| 35/35 [00:20<00:00,  1.74it/s]"
     ]
    },
    {
     "name": "stderr",
     "output_type": "stream",
     "text": [
      "2025/06/14 11:34:58 INFO dspy.evaluate.evaluate: Average Metric: 17 / 35 (48.6%)\n",
      "2025/06/14 11:34:58 INFO dspy.teleprompt.mipro_optimizer_v2: Score: 48.57 on minibatch of size 35 with parameters ['Predictor 0: Instruction 1', 'Predictor 0: Few-Shot Set 4', 'Predictor 1: Instruction 0', 'Predictor 1: Few-Shot Set 1'].\n",
      "2025/06/14 11:34:58 INFO dspy.teleprompt.mipro_optimizer_v2: Minibatch scores so far: [25.71, 54.29, 40.0, 51.43, 51.43, 40.0, 57.14, 25.71, 40.0, 57.14, 48.57]\n",
      "2025/06/14 11:34:58 INFO dspy.teleprompt.mipro_optimizer_v2: Full eval scores so far: [29.0, 48.0, 50.0]\n",
      "2025/06/14 11:34:58 INFO dspy.teleprompt.mipro_optimizer_v2: Best full score so far: 50.0\n",
      "2025/06/14 11:34:58 INFO dspy.teleprompt.mipro_optimizer_v2: ==========================================\n",
      "\n",
      "\n",
      "2025/06/14 11:34:58 INFO dspy.teleprompt.mipro_optimizer_v2: == Trial 15 / 25 - Minibatch ==\n"
     ]
    },
    {
     "name": "stdout",
     "output_type": "stream",
     "text": [
      "\n",
      "🏃 View run eval_minibatch_10 at: http://localhost:8080/#/experiments/322957703646966226/runs/ff7c287e7e1a4f4ab697b8c9388f56ac\n",
      "🧪 View experiment at: http://localhost:8080/#/experiments/322957703646966226\n",
      "Average Metric: 16.00 / 35 (45.7%): 100%|██████████| 35/35 [00:14<00:00,  2.44it/s]"
     ]
    },
    {
     "name": "stderr",
     "output_type": "stream",
     "text": [
      "2025/06/14 11:35:12 INFO dspy.evaluate.evaluate: Average Metric: 16 / 35 (45.7%)\n",
      "2025/06/14 11:35:12 INFO dspy.teleprompt.mipro_optimizer_v2: Score: 45.71 on minibatch of size 35 with parameters ['Predictor 0: Instruction 1', 'Predictor 0: Few-Shot Set 4', 'Predictor 1: Instruction 2', 'Predictor 1: Few-Shot Set 1'].\n",
      "2025/06/14 11:35:12 INFO dspy.teleprompt.mipro_optimizer_v2: Minibatch scores so far: [25.71, 54.29, 40.0, 51.43, 51.43, 40.0, 57.14, 25.71, 40.0, 57.14, 48.57, 45.71]\n",
      "2025/06/14 11:35:12 INFO dspy.teleprompt.mipro_optimizer_v2: Full eval scores so far: [29.0, 48.0, 50.0]\n",
      "2025/06/14 11:35:12 INFO dspy.teleprompt.mipro_optimizer_v2: Best full score so far: 50.0\n",
      "2025/06/14 11:35:12 INFO dspy.teleprompt.mipro_optimizer_v2: ==========================================\n",
      "\n",
      "\n",
      "2025/06/14 11:35:12 INFO dspy.teleprompt.mipro_optimizer_v2: == Trial 16 / 25 - Minibatch ==\n"
     ]
    },
    {
     "name": "stdout",
     "output_type": "stream",
     "text": [
      "\n",
      "🏃 View run eval_minibatch_11 at: http://localhost:8080/#/experiments/322957703646966226/runs/01fad881102a480ea62a54bcaff8e4c0\n",
      "🧪 View experiment at: http://localhost:8080/#/experiments/322957703646966226\n",
      "Average Metric: 19.00 / 35 (54.3%): 100%|██████████| 35/35 [00:05<00:00,  6.57it/s]"
     ]
    },
    {
     "name": "stderr",
     "output_type": "stream",
     "text": [
      "2025/06/14 11:35:18 INFO dspy.evaluate.evaluate: Average Metric: 19 / 35 (54.3%)\n",
      "2025/06/14 11:35:18 INFO dspy.teleprompt.mipro_optimizer_v2: Score: 54.29 on minibatch of size 35 with parameters ['Predictor 0: Instruction 1', 'Predictor 0: Few-Shot Set 2', 'Predictor 1: Instruction 2', 'Predictor 1: Few-Shot Set 4'].\n",
      "2025/06/14 11:35:18 INFO dspy.teleprompt.mipro_optimizer_v2: Minibatch scores so far: [25.71, 54.29, 40.0, 51.43, 51.43, 40.0, 57.14, 25.71, 40.0, 57.14, 48.57, 45.71, 54.29]\n",
      "2025/06/14 11:35:18 INFO dspy.teleprompt.mipro_optimizer_v2: Full eval scores so far: [29.0, 48.0, 50.0]\n",
      "2025/06/14 11:35:18 INFO dspy.teleprompt.mipro_optimizer_v2: Best full score so far: 50.0\n",
      "2025/06/14 11:35:18 INFO dspy.teleprompt.mipro_optimizer_v2: ==========================================\n",
      "\n",
      "\n",
      "2025/06/14 11:35:18 INFO dspy.teleprompt.mipro_optimizer_v2: == Trial 17 / 25 - Minibatch ==\n"
     ]
    },
    {
     "name": "stdout",
     "output_type": "stream",
     "text": [
      "\n",
      "🏃 View run eval_minibatch_12 at: http://localhost:8080/#/experiments/322957703646966226/runs/37f4ec5128de43a4a76453742aa9e565\n",
      "🧪 View experiment at: http://localhost:8080/#/experiments/322957703646966226\n",
      "Average Metric: 13.00 / 35 (37.1%): 100%|██████████| 35/35 [00:18<00:00,  1.87it/s]"
     ]
    },
    {
     "name": "stderr",
     "output_type": "stream",
     "text": [
      "2025/06/14 11:35:36 INFO dspy.evaluate.evaluate: Average Metric: 13 / 35 (37.1%)\n",
      "2025/06/14 11:35:37 INFO dspy.teleprompt.mipro_optimizer_v2: Score: 37.14 on minibatch of size 35 with parameters ['Predictor 0: Instruction 2', 'Predictor 0: Few-Shot Set 2', 'Predictor 1: Instruction 2', 'Predictor 1: Few-Shot Set 1'].\n",
      "2025/06/14 11:35:37 INFO dspy.teleprompt.mipro_optimizer_v2: Minibatch scores so far: [25.71, 54.29, 40.0, 51.43, 51.43, 40.0, 57.14, 25.71, 40.0, 57.14, 48.57, 45.71, 54.29, 37.14]\n",
      "2025/06/14 11:35:37 INFO dspy.teleprompt.mipro_optimizer_v2: Full eval scores so far: [29.0, 48.0, 50.0]\n",
      "2025/06/14 11:35:37 INFO dspy.teleprompt.mipro_optimizer_v2: Best full score so far: 50.0\n",
      "2025/06/14 11:35:37 INFO dspy.teleprompt.mipro_optimizer_v2: ==========================================\n",
      "\n",
      "\n",
      "2025/06/14 11:35:37 INFO dspy.teleprompt.mipro_optimizer_v2: == Trial 18 / 25 - Minibatch ==\n"
     ]
    },
    {
     "name": "stdout",
     "output_type": "stream",
     "text": [
      "\n",
      "🏃 View run eval_minibatch_13 at: http://localhost:8080/#/experiments/322957703646966226/runs/99362ef736bb42f6baeae2762de8fac0\n",
      "🧪 View experiment at: http://localhost:8080/#/experiments/322957703646966226\n",
      "Average Metric: 18.00 / 35 (51.4%): 100%|██████████| 35/35 [00:23<00:00,  1.50it/s]"
     ]
    },
    {
     "name": "stderr",
     "output_type": "stream",
     "text": [
      "2025/06/14 11:36:00 INFO dspy.evaluate.evaluate: Average Metric: 18 / 35 (51.4%)\n",
      "2025/06/14 11:36:00 INFO dspy.teleprompt.mipro_optimizer_v2: Score: 51.43 on minibatch of size 35 with parameters ['Predictor 0: Instruction 0', 'Predictor 0: Few-Shot Set 4', 'Predictor 1: Instruction 1', 'Predictor 1: Few-Shot Set 5'].\n",
      "2025/06/14 11:36:00 INFO dspy.teleprompt.mipro_optimizer_v2: Minibatch scores so far: [25.71, 54.29, 40.0, 51.43, 51.43, 40.0, 57.14, 25.71, 40.0, 57.14, 48.57, 45.71, 54.29, 37.14, 51.43]\n",
      "2025/06/14 11:36:00 INFO dspy.teleprompt.mipro_optimizer_v2: Full eval scores so far: [29.0, 48.0, 50.0]\n",
      "2025/06/14 11:36:00 INFO dspy.teleprompt.mipro_optimizer_v2: Best full score so far: 50.0\n",
      "2025/06/14 11:36:00 INFO dspy.teleprompt.mipro_optimizer_v2: ==========================================\n",
      "\n",
      "\n",
      "2025/06/14 11:36:00 INFO dspy.teleprompt.mipro_optimizer_v2: ===== Trial 19 / 25 - Full Evaluation =====\n",
      "2025/06/14 11:36:00 INFO dspy.teleprompt.mipro_optimizer_v2: Doing full eval on next top averaging program (Avg Score: 54.29) from minibatch trials...\n"
     ]
    },
    {
     "name": "stdout",
     "output_type": "stream",
     "text": [
      "\n",
      "🏃 View run eval_minibatch_14 at: http://localhost:8080/#/experiments/322957703646966226/runs/736f9b9d7cbc4676ac931e46553af92d\n",
      "🧪 View experiment at: http://localhost:8080/#/experiments/322957703646966226\n",
      "Average Metric: 51.00 / 100 (51.0%): 100%|██████████| 100/100 [00:08<00:00, 11.36it/s]"
     ]
    },
    {
     "name": "stderr",
     "output_type": "stream",
     "text": [
      "2025/06/14 11:36:09 INFO dspy.evaluate.evaluate: Average Metric: 51 / 100 (51.0%)\n",
      "2025/06/14 11:36:09 INFO dspy.teleprompt.mipro_optimizer_v2: \u001b[92mNew best full eval score!\u001b[0m Score: 51.0\n",
      "2025/06/14 11:36:09 INFO dspy.teleprompt.mipro_optimizer_v2: Full eval scores so far: [29.0, 48.0, 50.0, 51.0]\n",
      "2025/06/14 11:36:09 INFO dspy.teleprompt.mipro_optimizer_v2: Best full score so far: 51.0\n",
      "2025/06/14 11:36:09 INFO dspy.teleprompt.mipro_optimizer_v2: =======================\n",
      "2025/06/14 11:36:09 INFO dspy.teleprompt.mipro_optimizer_v2: \n",
      "\n",
      "2025/06/14 11:36:09 INFO dspy.teleprompt.mipro_optimizer_v2: == Trial 20 / 25 - Minibatch ==\n"
     ]
    },
    {
     "name": "stdout",
     "output_type": "stream",
     "text": [
      "\n",
      "🏃 View run eval_full_3 at: http://localhost:8080/#/experiments/322957703646966226/runs/a1bc54ff52c04493b5618cf19c65eff6\n",
      "🧪 View experiment at: http://localhost:8080/#/experiments/322957703646966226\n",
      "Average Metric: 21.00 / 35 (60.0%): 100%|██████████| 35/35 [00:06<00:00,  5.79it/s]"
     ]
    },
    {
     "name": "stderr",
     "output_type": "stream",
     "text": [
      "2025/06/14 11:36:15 INFO dspy.evaluate.evaluate: Average Metric: 21 / 35 (60.0%)\n"
     ]
    },
    {
     "name": "stdout",
     "output_type": "stream",
     "text": [
      "\n",
      "🏃 View run eval_minibatch_15 at: http://localhost:8080/#/experiments/322957703646966226/runs/117b08ae41404b22ad0b308355a11188\n",
      "🧪 View experiment at: http://localhost:8080/#/experiments/322957703646966226\n"
     ]
    },
    {
     "name": "stderr",
     "output_type": "stream",
     "text": [
      "2025/06/14 11:36:15 INFO dspy.teleprompt.mipro_optimizer_v2: Score: 60.0 on minibatch of size 35 with parameters ['Predictor 0: Instruction 1', 'Predictor 0: Few-Shot Set 2', 'Predictor 1: Instruction 0', 'Predictor 1: Few-Shot Set 3'].\n",
      "2025/06/14 11:36:15 INFO dspy.teleprompt.mipro_optimizer_v2: Minibatch scores so far: [25.71, 54.29, 40.0, 51.43, 51.43, 40.0, 57.14, 25.71, 40.0, 57.14, 48.57, 45.71, 54.29, 37.14, 51.43, 60.0]\n",
      "2025/06/14 11:36:15 INFO dspy.teleprompt.mipro_optimizer_v2: Full eval scores so far: [29.0, 48.0, 50.0, 51.0]\n",
      "2025/06/14 11:36:15 INFO dspy.teleprompt.mipro_optimizer_v2: Best full score so far: 51.0\n",
      "2025/06/14 11:36:15 INFO dspy.teleprompt.mipro_optimizer_v2: ==========================================\n",
      "\n",
      "\n",
      "2025/06/14 11:36:15 INFO dspy.teleprompt.mipro_optimizer_v2: == Trial 21 / 25 - Minibatch ==\n"
     ]
    },
    {
     "name": "stdout",
     "output_type": "stream",
     "text": [
      "Average Metric: 23.00 / 35 (65.7%): 100%|██████████| 35/35 [00:03<00:00,  9.75it/s]"
     ]
    },
    {
     "name": "stderr",
     "output_type": "stream",
     "text": [
      "2025/06/14 11:36:19 INFO dspy.evaluate.evaluate: Average Metric: 23 / 35 (65.7%)\n",
      "2025/06/14 11:36:19 INFO dspy.teleprompt.mipro_optimizer_v2: Score: 65.71 on minibatch of size 35 with parameters ['Predictor 0: Instruction 1', 'Predictor 0: Few-Shot Set 2', 'Predictor 1: Instruction 0', 'Predictor 1: Few-Shot Set 3'].\n",
      "2025/06/14 11:36:19 INFO dspy.teleprompt.mipro_optimizer_v2: Minibatch scores so far: [25.71, 54.29, 40.0, 51.43, 51.43, 40.0, 57.14, 25.71, 40.0, 57.14, 48.57, 45.71, 54.29, 37.14, 51.43, 60.0, 65.71]\n",
      "2025/06/14 11:36:19 INFO dspy.teleprompt.mipro_optimizer_v2: Full eval scores so far: [29.0, 48.0, 50.0, 51.0]\n",
      "2025/06/14 11:36:19 INFO dspy.teleprompt.mipro_optimizer_v2: Best full score so far: 51.0\n",
      "2025/06/14 11:36:19 INFO dspy.teleprompt.mipro_optimizer_v2: ==========================================\n",
      "\n",
      "\n",
      "2025/06/14 11:36:19 INFO dspy.teleprompt.mipro_optimizer_v2: == Trial 22 / 25 - Minibatch ==\n"
     ]
    },
    {
     "name": "stdout",
     "output_type": "stream",
     "text": [
      "\n",
      "🏃 View run eval_minibatch_16 at: http://localhost:8080/#/experiments/322957703646966226/runs/b67ea09187ae477fa7566218819638bd\n",
      "🧪 View experiment at: http://localhost:8080/#/experiments/322957703646966226\n",
      "Average Metric: 16.00 / 35 (45.7%): 100%|██████████| 35/35 [00:19<00:00,  1.77it/s]"
     ]
    },
    {
     "name": "stderr",
     "output_type": "stream",
     "text": [
      "2025/06/14 11:36:39 INFO dspy.evaluate.evaluate: Average Metric: 16 / 35 (45.7%)\n",
      "2025/06/14 11:36:39 INFO dspy.teleprompt.mipro_optimizer_v2: Score: 45.71 on minibatch of size 35 with parameters ['Predictor 0: Instruction 0', 'Predictor 0: Few-Shot Set 2', 'Predictor 1: Instruction 0', 'Predictor 1: Few-Shot Set 3'].\n",
      "2025/06/14 11:36:39 INFO dspy.teleprompt.mipro_optimizer_v2: Minibatch scores so far: [25.71, 54.29, 40.0, 51.43, 51.43, 40.0, 57.14, 25.71, 40.0, 57.14, 48.57, 45.71, 54.29, 37.14, 51.43, 60.0, 65.71, 45.71]\n",
      "2025/06/14 11:36:39 INFO dspy.teleprompt.mipro_optimizer_v2: Full eval scores so far: [29.0, 48.0, 50.0, 51.0]\n",
      "2025/06/14 11:36:39 INFO dspy.teleprompt.mipro_optimizer_v2: Best full score so far: 51.0\n",
      "2025/06/14 11:36:39 INFO dspy.teleprompt.mipro_optimizer_v2: ==========================================\n",
      "\n",
      "\n",
      "2025/06/14 11:36:39 INFO dspy.teleprompt.mipro_optimizer_v2: == Trial 23 / 25 - Minibatch ==\n"
     ]
    },
    {
     "name": "stdout",
     "output_type": "stream",
     "text": [
      "\n",
      "🏃 View run eval_minibatch_17 at: http://localhost:8080/#/experiments/322957703646966226/runs/100f033576ae469584a414e91cf7589c\n",
      "🧪 View experiment at: http://localhost:8080/#/experiments/322957703646966226\n",
      "Average Metric: 18.00 / 35 (51.4%): 100%|██████████| 35/35 [00:05<00:00,  6.35it/s]"
     ]
    },
    {
     "name": "stderr",
     "output_type": "stream",
     "text": [
      "2025/06/14 11:36:44 INFO dspy.evaluate.evaluate: Average Metric: 18 / 35 (51.4%)\n"
     ]
    },
    {
     "name": "stdout",
     "output_type": "stream",
     "text": [
      "\n",
      "🏃 View run eval_minibatch_18 at: http://localhost:8080/#/experiments/322957703646966226/runs/ac1cc5836a0c4462848c966c02861a3a\n",
      "🧪 View experiment at: http://localhost:8080/#/experiments/322957703646966226\n"
     ]
    },
    {
     "name": "stderr",
     "output_type": "stream",
     "text": [
      "2025/06/14 11:36:44 INFO dspy.teleprompt.mipro_optimizer_v2: Score: 51.43 on minibatch of size 35 with parameters ['Predictor 0: Instruction 1', 'Predictor 0: Few-Shot Set 2', 'Predictor 1: Instruction 0', 'Predictor 1: Few-Shot Set 5'].\n",
      "2025/06/14 11:36:44 INFO dspy.teleprompt.mipro_optimizer_v2: Minibatch scores so far: [25.71, 54.29, 40.0, 51.43, 51.43, 40.0, 57.14, 25.71, 40.0, 57.14, 48.57, 45.71, 54.29, 37.14, 51.43, 60.0, 65.71, 45.71, 51.43]\n",
      "2025/06/14 11:36:44 INFO dspy.teleprompt.mipro_optimizer_v2: Full eval scores so far: [29.0, 48.0, 50.0, 51.0]\n",
      "2025/06/14 11:36:44 INFO dspy.teleprompt.mipro_optimizer_v2: Best full score so far: 51.0\n",
      "2025/06/14 11:36:44 INFO dspy.teleprompt.mipro_optimizer_v2: ==========================================\n",
      "\n",
      "\n",
      "2025/06/14 11:36:44 INFO dspy.teleprompt.mipro_optimizer_v2: == Trial 24 / 25 - Minibatch ==\n"
     ]
    },
    {
     "name": "stdout",
     "output_type": "stream",
     "text": [
      "Average Metric: 17.00 / 35 (48.6%): 100%|██████████| 35/35 [00:21<00:00,  1.60it/s]"
     ]
    },
    {
     "name": "stderr",
     "output_type": "stream",
     "text": [
      "2025/06/14 11:37:06 INFO dspy.evaluate.evaluate: Average Metric: 17 / 35 (48.6%)\n",
      "2025/06/14 11:37:06 INFO dspy.teleprompt.mipro_optimizer_v2: Score: 48.57 on minibatch of size 35 with parameters ['Predictor 0: Instruction 1', 'Predictor 0: Few-Shot Set 1', 'Predictor 1: Instruction 0', 'Predictor 1: Few-Shot Set 3'].\n",
      "2025/06/14 11:37:06 INFO dspy.teleprompt.mipro_optimizer_v2: Minibatch scores so far: [25.71, 54.29, 40.0, 51.43, 51.43, 40.0, 57.14, 25.71, 40.0, 57.14, 48.57, 45.71, 54.29, 37.14, 51.43, 60.0, 65.71, 45.71, 51.43, 48.57]\n",
      "2025/06/14 11:37:06 INFO dspy.teleprompt.mipro_optimizer_v2: Full eval scores so far: [29.0, 48.0, 50.0, 51.0]\n",
      "2025/06/14 11:37:06 INFO dspy.teleprompt.mipro_optimizer_v2: Best full score so far: 51.0\n",
      "2025/06/14 11:37:06 INFO dspy.teleprompt.mipro_optimizer_v2: ==========================================\n",
      "\n",
      "\n",
      "2025/06/14 11:37:06 INFO dspy.teleprompt.mipro_optimizer_v2: ===== Trial 25 / 25 - Full Evaluation =====\n",
      "2025/06/14 11:37:06 INFO dspy.teleprompt.mipro_optimizer_v2: Doing full eval on next top averaging program (Avg Score: 62.855) from minibatch trials...\n"
     ]
    },
    {
     "name": "stdout",
     "output_type": "stream",
     "text": [
      "\n",
      "🏃 View run eval_minibatch_19 at: http://localhost:8080/#/experiments/322957703646966226/runs/50a39ca3340d4b519bdd548dbfaf26f0\n",
      "🧪 View experiment at: http://localhost:8080/#/experiments/322957703646966226\n",
      "Average Metric: 56.00 / 100 (56.0%): 100%|██████████| 100/100 [00:06<00:00, 14.43it/s]"
     ]
    },
    {
     "name": "stderr",
     "output_type": "stream",
     "text": [
      "2025/06/14 11:37:13 INFO dspy.evaluate.evaluate: Average Metric: 56 / 100 (56.0%)\n",
      "2025/06/14 11:37:13 INFO dspy.teleprompt.mipro_optimizer_v2: \u001b[92mNew best full eval score!\u001b[0m Score: 56.0\n",
      "2025/06/14 11:37:13 INFO dspy.teleprompt.mipro_optimizer_v2: Full eval scores so far: [29.0, 48.0, 50.0, 51.0, 56.0]\n",
      "2025/06/14 11:37:13 INFO dspy.teleprompt.mipro_optimizer_v2: Best full score so far: 56.0\n",
      "2025/06/14 11:37:13 INFO dspy.teleprompt.mipro_optimizer_v2: =======================\n",
      "2025/06/14 11:37:13 INFO dspy.teleprompt.mipro_optimizer_v2: \n",
      "\n",
      "2025/06/14 11:37:13 INFO dspy.teleprompt.mipro_optimizer_v2: Returning best identified program with score 56.0!\n"
     ]
    },
    {
     "name": "stdout",
     "output_type": "stream",
     "text": [
      "\n",
      "🏃 View run eval_full_4 at: http://localhost:8080/#/experiments/322957703646966226/runs/7f6216681b4a41a3a76b7f5ea6930fa4\n",
      "🧪 View experiment at: http://localhost:8080/#/experiments/322957703646966226\n"
     ]
    },
    {
     "name": "stderr",
     "output_type": "stream",
     "text": [
      "Downloading artifacts: 100%|██████████| 1/1 [00:00<00:00, 235.12it/s]"
     ]
    },
    {
     "name": "stdout",
     "output_type": "stream",
     "text": [
      "🏃 View run resilient-dove-503 at: http://localhost:8080/#/experiments/322957703646966226/runs/a26508f5320d4386af80a5a922813397\n",
      "🧪 View experiment at: http://localhost:8080/#/experiments/322957703646966226\n"
     ]
    },
    {
     "name": "stderr",
     "output_type": "stream",
     "text": [
      "\n"
     ]
    },
    {
     "data": {
      "text/html": [
       "\n",
       "<div>\n",
       "  <style scoped>\n",
       "  button {\n",
       "    border: none;\n",
       "    border-radius: 4px;\n",
       "    background-color: rgb(34, 114, 180);\n",
       "    font-family: -apple-system, \"system-ui\", \"Segoe UI\", Roboto, \"Helvetica Neue\", Arial;\n",
       "    font-size: 13px;\n",
       "    color: white;\n",
       "    margin-top: 8px;\n",
       "    margin-bottom: 8px;\n",
       "    padding: 8px 16px;\n",
       "    cursor: pointer;\n",
       "  }\n",
       "  button:hover {\n",
       "    background-color: rgb(66, 153, 224);\n",
       "  }\n",
       "  </style>\n",
       "  <button\n",
       "    onclick=\"\n",
       "        const display = this.nextElementSibling.style.display;\n",
       "        const isCollapsed = display === 'none';\n",
       "        this.nextElementSibling.style.display = isCollapsed ? null : 'none';\n",
       "\n",
       "        const verb = isCollapsed ? 'Collapse' : 'Expand';\n",
       "        this.innerText = `${verb} MLflow Trace`;\n",
       "    \"\n",
       "  >Collapse MLflow Trace</button>\n",
       "  <iframe\n",
       "    id=\"trace-renderer\"\n",
       "    style=\"width: 100%; height: 500px; border: none; resize: vertical;\"\n",
       "    src=\"http://localhost:8080/static-files/lib/notebook-trace-renderer/index.html?trace_id=09dac65ad8184e2695bf9a8dacec8ced&amp;experiment_id=322957703646966226&amp;trace_id=139ec564238c4dfeaad8640de18f21f8&amp;experiment_id=322957703646966226&amp;trace_id=ec94fdb40d5045e8bb2c0789cf8e4161&amp;experiment_id=322957703646966226&amp;trace_id=a257d20fb42f464994acbe8af500903c&amp;experiment_id=322957703646966226&amp;trace_id=345948e9b3f74691bf18563c2a8ffa08&amp;experiment_id=322957703646966226&amp;trace_id=560038821991493799945288b55984a8&amp;experiment_id=322957703646966226&amp;trace_id=eee353dcf244488fadc8bb1651007f4b&amp;experiment_id=322957703646966226&amp;trace_id=faba5ce1399e41c8baa257f0ec579c57&amp;experiment_id=322957703646966226&amp;trace_id=22dc44225b264f75a198985c7b7a6f26&amp;experiment_id=322957703646966226&amp;trace_id=c2ecbdee888a4d17ad2bbb53e38e351d&amp;experiment_id=322957703646966226&amp;version=3.1.0\"\n",
       "  />\n",
       "</div>\n"
      ],
      "text/plain": [
       "[Trace(trace_id=09dac65ad8184e2695bf9a8dacec8ced), Trace(trace_id=139ec564238c4dfeaad8640de18f21f8), Trace(trace_id=ec94fdb40d5045e8bb2c0789cf8e4161), Trace(trace_id=a257d20fb42f464994acbe8af500903c), Trace(trace_id=345948e9b3f74691bf18563c2a8ffa08), Trace(trace_id=560038821991493799945288b55984a8), Trace(trace_id=eee353dcf244488fadc8bb1651007f4b), Trace(trace_id=faba5ce1399e41c8baa257f0ec579c57), Trace(trace_id=22dc44225b264f75a198985c7b7a6f26), Trace(trace_id=c2ecbdee888a4d17ad2bbb53e38e351d)]"
      ]
     },
     "metadata": {},
     "output_type": "display_data"
    }
   ],
   "source": [
    "optimized_react = tp.compile(\n",
    "    react,\n",
    "    trainset=trainset,\n",
    "    valset=valset,\n",
    "    requires_permission_to_run=False,\n",
    ")"
   ]
  },
  {
   "cell_type": "code",
   "execution_count": 31,
   "id": "6d4a455e-796e-4692-8a52-b97cb32d30b8",
   "metadata": {
    "height": 30
   },
   "outputs": [
    {
     "data": {
      "text/plain": [
       "StringSignature(question, trajectory -> next_thought, next_tool_name, next_tool_args\n",
       "    instructions='Given the `question` about a specific topic, your task is to iteratively determine the necessary information needed to formulate a comprehensive `answer`. You will maintain a `trajectory` of your reasoning process and actions taken. For each step, produce the following outputs: \\n\\n1. `next_thought`: Reflect on the current situation and reason about the next steps you need to take to gather information.\\n2. `next_tool_name`: Decide which tool to use next; you can choose to either search Wikipedia for relevant information or finish the task if you believe you have enough data to provide an answer.\\n3. `next_tool_args`: Provide the arguments for the selected tool in JSON format, ensuring that the query for the Wikipedia search is clearly defined.\\n\\nUse the information from your `trajectory` to make informed decisions at each step, ensuring that you gather all necessary information before concluding your task.'\n",
       "    question = Field(annotation=str required=True json_schema_extra={'__dspy_field_type': 'input', 'prefix': 'Question:', 'desc': '${question}'})\n",
       "    trajectory = Field(annotation=str required=True json_schema_extra={'__dspy_field_type': 'input', 'prefix': 'Trajectory:', 'desc': '${trajectory}'})\n",
       "    next_thought = Field(annotation=str required=True json_schema_extra={'__dspy_field_type': 'output', 'prefix': 'Next Thought:', 'desc': '${next_thought}'})\n",
       "    next_tool_name = Field(annotation=Literal['search_wikipedia', 'finish'] required=True json_schema_extra={'__dspy_field_type': 'output', 'prefix': 'Next Tool Name:', 'desc': '${next_tool_name}'})\n",
       "    next_tool_args = Field(annotation=dict[str, Any] required=True json_schema_extra={'__dspy_field_type': 'output', 'prefix': 'Next Tool Args:', 'desc': '${next_tool_args}'})\n",
       ")"
      ]
     },
     "execution_count": 31,
     "metadata": {},
     "output_type": "execute_result"
    }
   ],
   "source": [
    "optimized_react.react.signature"
   ]
  },
  {
   "cell_type": "code",
   "execution_count": 32,
   "id": "2652275a-b2a2-4f6e-ba97-7683da764f2d",
   "metadata": {
    "height": 30
   },
   "outputs": [
    {
     "data": {
      "text/plain": [
       "[Example({'augmented': True, 'question': 'That Darn Cat! and Never a Dull Moment were both produced by what studio?', 'trajectory': '', 'next_thought': 'I need to find out which studio produced both \"That Darn Cat!\" and \"Never a Dull Moment.\" This information is likely available on Wikipedia, so I will search for it there.', 'next_tool_name': 'search_wikipedia', 'next_tool_args': {'query': 'That Darn Cat! and Never a Dull Moment production studio'}}) (input_keys=None),\n",
       " Example({'augmented': True, 'question': 'Which of Zhucheng and Pingquan has more people?', 'trajectory': '[[ ## thought_0 ## ]]\\nI need to find the population data for both Zhucheng and Pingquan to determine which one has more people. I will search for the population statistics of both locations.\\n\\n[[ ## tool_name_0 ## ]]\\nsearch_wikipedia\\n\\n[[ ## tool_args_0 ## ]]\\n{\"query\": \"Zhucheng population\"}\\n\\n[[ ## observation_0 ## ]]\\n[1] «Zhucheng | Zhucheng () is a county-level city in the southeast of Shandong province, People\\'s Republic of China. It is under the administration of Weifang City and had at the 2010 census a population of 1,086,222 even though its built-up (\"or metro\") area is much smaller.»\\n[2] «Liucheng County | Liucheng County (; Standard Zhuang: Liujcwngz Yen ) is under the administration of Liuzhou, Guangxi Zhuang Autonomous Region, China. It covers a land area of 2109.78 km2 and had a permanent population of 353,796 . Located north of Liuzhou\\'s city proper, it borders the prefecture-level city of Hechi to the west.»\\n[3] «Zhutang, Changhua | Zhutang Township () is a rural township in Changhua County, Taiwan. It has a population total of 15,863 and an area of 42.1662 square kilometres.»\\n\\n[[ ## thought_1 ## ]]\\nI found the population of Zhucheng, which is 1,086,222. Now I need to search for the population of Pingquan to compare the two.\\n\\n[[ ## tool_name_1 ## ]]\\nsearch_wikipedia\\n\\n[[ ## tool_args_1 ## ]]\\n{\"query\": \"Pingquan population\"}\\n\\n[[ ## observation_1 ## ]]\\n[1] «Pingquan | Pingquan () is a county-level city of northeastern Hebei province, China, bordering Liaoning to the east. It has a population of 470,000 residing in an area of 3297 km2 . It is a centre of trade and business, and gold and silver are mined nearby.»\\n[2] «Ye County | Ye County or Yexian () is a county in Pingdingshan, Henan province, China, with a population of 820,000.»\\n[3] «Pingxiang County | Pingxiang County () is a county of Xingtai City, in southern Hebei province, China, located about 45 km from downtown Xingtai. It has a population of 280,000 residing in an area of 406 km2 . In the Han dynasty, Pingxiang County was known as Julu County (钜鹿县) and was the birthplace of Zhang Jue and his brothers Zhang Bao and Zhang Liang, who started the Yellow Turban Rebellion in the 180s.»', 'next_thought': 'I have found the population of both Zhucheng (1,086,222) and Pingquan (470,000). Now I can conclude that Zhucheng has more people than Pingquan.', 'next_tool_name': 'finish', 'next_tool_args': {}}) (input_keys=None),\n",
       " Example({'augmented': True, 'question': \"Evolution: A Theory in Crisis is a 1985 book by a biochemist and Senior fellow at Discovery Institute's Center for what?\", 'trajectory': '', 'next_thought': 'I need to find out what the Center for which the biochemist and Senior fellow at Discovery Institute is associated with. This information is likely available on Wikipedia, so I will search for it.', 'next_tool_name': 'search_wikipedia', 'next_tool_args': {'query': \"Discovery Institute's Center for\"}}) (input_keys=None),\n",
       " Example({'augmented': True, 'question': 'Which Centre did the author of \"The Strange Death of Europe\" found?', 'trajectory': '[[ ## thought_0 ## ]]\\nI need to find out which Centre was founded by the author of \"The Strange Death of Europe.\" This information might be available on Wikipedia, so I will search for it.\\n\\n[[ ## tool_name_0 ## ]]\\nsearch_wikipedia\\n\\n[[ ## tool_args_0 ## ]]\\n{\"query\": \"author of \\'The Strange Death of Europe\\' founded Centre\"}\\n\\n[[ ## observation_0 ## ]]\\n[1] «The Strange Death of Europe | The Strange Death of Europe: Immigration, Identity, Islam is a 2017 book by the British journalist and political commentator, Douglas Murray. It was published in Britain in May 2017, and the U.S. edition in June, 2017.»\\n[2] «The Strange Death of Liberal England | The Strange Death of Liberal England is a book written by George Dangerfield published in 1935. In it the author discusses the causes of the decline in the influence of the British Liberal Party in the years 1910 to 1914.»\\n[3] «The Strange Death of Tory England | The Strange Death of Tory England is a book of political commentary by the journalist Geoffrey Wheatcroft, published in 2005.»\\n\\n[[ ## thought_1 ## ]]\\nThe search did not provide information about the Centre founded by Douglas Murray, the author of \"The Strange Death of Europe.\" I need to refine my search to focus specifically on Douglas Murray and any Centre he may have founded.\\n\\n[[ ## tool_name_1 ## ]]\\nsearch_wikipedia\\n\\n[[ ## tool_args_1 ## ]]\\n{\"query\": \"Douglas Murray founded Centre\"}\\n\\n[[ ## observation_1 ## ]]\\n[1] «Douglas Murray (author) | Douglas Kear Murray (born 16 July 1979) is a British author, journalist, and political commentator. He is the founder of the Centre for Social Cohesion and is currently the associate director of the Henry Jackson Society and associate editor of \"The Spectator\".»\\n[2] «Big Switch Networks | Big Switch Networks is a data center networking company. The company was founded by Kyle Forster and Guido Appenzeller in 2010 and has roots in the original Stanford research team that invented software defined networking (SDN). Douglas Murray, a former Juniper Networks and Sun Microsystems executive, joined the company as CEO in 2013 as the company went through a significant pivot following VMware\\'s acquisition of Nicira.»\\n[3] «Westgate, Oxford | The Westgate Shopping Centre (locally known as the Westgate Centre or Westgate) is a shopping centre in central Oxford, England, currently undergoing redevelopment. The original centre was built between 1970–72, designed by Douglas Murray and built by Taylor Woodrow. The centre was closed in February 2016 for comprehensive redevelopment, and is planned to re-open in October 2017.»', 'next_thought': 'I found that Douglas Murray is the founder of the Centre for Social Cohesion. This answers the question about which Centre he founded. I can now finish the task.', 'next_tool_name': 'finish', 'next_tool_args': {}}) (input_keys=None)]"
      ]
     },
     "execution_count": 32,
     "metadata": {},
     "output_type": "execute_result"
    }
   ],
   "source": [
    "optimized_react.react.demos"
   ]
  },
  {
   "cell_type": "code",
   "execution_count": 33,
   "id": "f5ebd0e2-8bf3-4df1-95b0-34f40448217e",
   "metadata": {
    "height": 132
   },
   "outputs": [],
   "source": [
    "evaluator = dspy.Evaluate(\n",
    "    metric=dspy.evaluate.answer_exact_match,\n",
    "    devset=valset,\n",
    "    display_table=True,\n",
    "    display_progress=True,\n",
    "    num_threads=24,\n",
    ")"
   ]
  },
  {
   "cell_type": "code",
   "execution_count": 34,
   "id": "ba7c1340-0e74-4bb0-9fe4-b5eb7b4b279a",
   "metadata": {
    "height": 47
   },
   "outputs": [
    {
     "name": "stdout",
     "output_type": "stream",
     "text": [
      "Average Metric: 29.00 / 100 (29.0%): 100%|██████████| 100/100 [00:02<00:00, 48.34it/s]"
     ]
    },
    {
     "name": "stderr",
     "output_type": "stream",
     "text": [
      "2025/06/14 11:37:46 INFO dspy.evaluate.evaluate: Average Metric: 29 / 100 (29.0%)\n"
     ]
    },
    {
     "name": "stdout",
     "output_type": "stream",
     "text": [
      "\n"
     ]
    },
    {
     "data": {
      "text/html": [
       "<div>\n",
       "<style scoped>\n",
       "    .dataframe tbody tr th:only-of-type {\n",
       "        vertical-align: middle;\n",
       "    }\n",
       "\n",
       "    .dataframe tbody tr th {\n",
       "        vertical-align: top;\n",
       "    }\n",
       "\n",
       "    .dataframe thead th {\n",
       "        text-align: right;\n",
       "    }\n",
       "</style>\n",
       "<table border=\"1\" class=\"dataframe\">\n",
       "  <thead>\n",
       "    <tr style=\"text-align: right;\">\n",
       "      <th></th>\n",
       "      <th>question</th>\n",
       "      <th>example_answer</th>\n",
       "      <th>trajectory</th>\n",
       "      <th>reasoning</th>\n",
       "      <th>pred_answer</th>\n",
       "      <th>answer_exact_match</th>\n",
       "    </tr>\n",
       "  </thead>\n",
       "  <tbody>\n",
       "    <tr>\n",
       "      <th>0</th>\n",
       "      <td>What movie did \"the king of cool\" play in with Bud Ekins as his st...</td>\n",
       "      <td>\"The Great Escape\"</td>\n",
       "      <td>{'thought_0': 'I need to find out which movie \"the king of cool\" s...</td>\n",
       "      <td>The question refers to a movie featuring \"the king of cool,\" which...</td>\n",
       "      <td>The Great Escape</td>\n",
       "      <td>✔️ [True]</td>\n",
       "    </tr>\n",
       "    <tr>\n",
       "      <th>1</th>\n",
       "      <td>whos family had their own reality tv show. Robert Kardashian or Ma...</td>\n",
       "      <td>their family reality television series</td>\n",
       "      <td>{'thought_0': 'I need to determine which individual, Robert Kardas...</td>\n",
       "      <td>Robert Kardashian's family is well-known for their reality TV show...</td>\n",
       "      <td>Robert Kardashian's family had their own reality TV show.</td>\n",
       "      <td></td>\n",
       "    </tr>\n",
       "    <tr>\n",
       "      <th>2</th>\n",
       "      <td>Which star in Shadows in Paradise is a Russian ballerina?</td>\n",
       "      <td>Sofya Skya</td>\n",
       "      <td>{'thought_0': 'I need to find out which star in the film \"Shadows ...</td>\n",
       "      <td>After conducting multiple searches regarding the cast of the film ...</td>\n",
       "      <td>There is no information available about a Russian ballerina in \"Sh...</td>\n",
       "      <td></td>\n",
       "    </tr>\n",
       "    <tr>\n",
       "      <th>3</th>\n",
       "      <td>What was the meaning of the name of the man who appointed Amashsai?</td>\n",
       "      <td>comforter</td>\n",
       "      <td>{'thought_0': 'I need to gather information about the man who appo...</td>\n",
       "      <td>The man who appointed Amashsai was Nehemiah, a significant figure ...</td>\n",
       "      <td>The meaning of the name of the man who appointed Amashsai, Nehemia...</td>\n",
       "      <td></td>\n",
       "    </tr>\n",
       "    <tr>\n",
       "      <th>4</th>\n",
       "      <td>In addition to the Austrian passport, what is needed to gain acces...</td>\n",
       "      <td>national identity card</td>\n",
       "      <td>{'thought_0': 'I need to find out what additional requirements or ...</td>\n",
       "      <td>To gain access to 173 countries and territories with an Austrian p...</td>\n",
       "      <td>In addition to the Austrian passport, Austrian citizens may need t...</td>\n",
       "      <td></td>\n",
       "    </tr>\n",
       "    <tr>\n",
       "      <th>...</th>\n",
       "      <td>...</td>\n",
       "      <td>...</td>\n",
       "      <td>...</td>\n",
       "      <td>...</td>\n",
       "      <td>...</td>\n",
       "      <td>...</td>\n",
       "    </tr>\n",
       "    <tr>\n",
       "      <th>95</th>\n",
       "      <td>What date did the American actress and singer-songwriter, known fo...</td>\n",
       "      <td>April 19, 1994</td>\n",
       "      <td>{'thought_0': 'I need to find out the name of the American actress...</td>\n",
       "      <td>The American actress and singer-songwriter known for her role as P...</td>\n",
       "      <td>2007</td>\n",
       "      <td></td>\n",
       "    </tr>\n",
       "    <tr>\n",
       "      <th>96</th>\n",
       "      <td>What animated creatures were the title characters of the film whic...</td>\n",
       "      <td>seals</td>\n",
       "      <td>{'thought_0': 'The question refers to an animated film based on a ...</td>\n",
       "      <td>The animated film \"Gnomeo &amp; Juliet\" is based on William Shakespear...</td>\n",
       "      <td>The title characters are garden gnomes named Gnomeo and Juliet.</td>\n",
       "      <td></td>\n",
       "    </tr>\n",
       "    <tr>\n",
       "      <th>97</th>\n",
       "      <td>The 1925 Saint Mary's Gaels football team represented what private...</td>\n",
       "      <td>Saint Mary's College of California</td>\n",
       "      <td>{'thought_0': \"I need to find out which private, coeducational col...</td>\n",
       "      <td>The 1925 Saint Mary's Gaels football team represented Saint Mary's...</td>\n",
       "      <td>Saint Mary's College of California</td>\n",
       "      <td>✔️ [True]</td>\n",
       "    </tr>\n",
       "    <tr>\n",
       "      <th>98</th>\n",
       "      <td>Were Dorothy Arzner and Richard Wallace both French film directors?</td>\n",
       "      <td>no</td>\n",
       "      <td>{'thought_0': 'I need to verify the nationalities and contribution...</td>\n",
       "      <td>Dorothy Arzner was an American film director, known for her signif...</td>\n",
       "      <td>No, both Dorothy Arzner and Richard Wallace were American film dir...</td>\n",
       "      <td></td>\n",
       "    </tr>\n",
       "    <tr>\n",
       "      <th>99</th>\n",
       "      <td>Which artist started recording/performing earlier David Donato or ...</td>\n",
       "      <td>Moya Brennan</td>\n",
       "      <td>{'thought_0': 'I need to find out the years when David Donato and ...</td>\n",
       "      <td>Moya Brennan began performing professionally in 1970, while David ...</td>\n",
       "      <td>Moya Brennan started recording/performing earlier than David Donato.</td>\n",
       "      <td></td>\n",
       "    </tr>\n",
       "  </tbody>\n",
       "</table>\n",
       "<p>100 rows × 6 columns</p>\n",
       "</div>"
      ],
      "text/plain": [
       "                                                                 question  \\\n",
       "0   What movie did \"the king of cool\" play in with Bud Ekins as his st...   \n",
       "1   whos family had their own reality tv show. Robert Kardashian or Ma...   \n",
       "2               Which star in Shadows in Paradise is a Russian ballerina?   \n",
       "3     What was the meaning of the name of the man who appointed Amashsai?   \n",
       "4   In addition to the Austrian passport, what is needed to gain acces...   \n",
       "..                                                                    ...   \n",
       "95  What date did the American actress and singer-songwriter, known fo...   \n",
       "96  What animated creatures were the title characters of the film whic...   \n",
       "97  The 1925 Saint Mary's Gaels football team represented what private...   \n",
       "98    Were Dorothy Arzner and Richard Wallace both French film directors?   \n",
       "99  Which artist started recording/performing earlier David Donato or ...   \n",
       "\n",
       "                            example_answer  \\\n",
       "0                       \"The Great Escape\"   \n",
       "1   their family reality television series   \n",
       "2                               Sofya Skya   \n",
       "3                                comforter   \n",
       "4                   national identity card   \n",
       "..                                     ...   \n",
       "95                          April 19, 1994   \n",
       "96                                   seals   \n",
       "97      Saint Mary's College of California   \n",
       "98                                      no   \n",
       "99                            Moya Brennan   \n",
       "\n",
       "                                                               trajectory  \\\n",
       "0   {'thought_0': 'I need to find out which movie \"the king of cool\" s...   \n",
       "1   {'thought_0': 'I need to determine which individual, Robert Kardas...   \n",
       "2   {'thought_0': 'I need to find out which star in the film \"Shadows ...   \n",
       "3   {'thought_0': 'I need to gather information about the man who appo...   \n",
       "4   {'thought_0': 'I need to find out what additional requirements or ...   \n",
       "..                                                                    ...   \n",
       "95  {'thought_0': 'I need to find out the name of the American actress...   \n",
       "96  {'thought_0': 'The question refers to an animated film based on a ...   \n",
       "97  {'thought_0': \"I need to find out which private, coeducational col...   \n",
       "98  {'thought_0': 'I need to verify the nationalities and contribution...   \n",
       "99  {'thought_0': 'I need to find out the years when David Donato and ...   \n",
       "\n",
       "                                                                reasoning  \\\n",
       "0   The question refers to a movie featuring \"the king of cool,\" which...   \n",
       "1   Robert Kardashian's family is well-known for their reality TV show...   \n",
       "2   After conducting multiple searches regarding the cast of the film ...   \n",
       "3   The man who appointed Amashsai was Nehemiah, a significant figure ...   \n",
       "4   To gain access to 173 countries and territories with an Austrian p...   \n",
       "..                                                                    ...   \n",
       "95  The American actress and singer-songwriter known for her role as P...   \n",
       "96  The animated film \"Gnomeo & Juliet\" is based on William Shakespear...   \n",
       "97  The 1925 Saint Mary's Gaels football team represented Saint Mary's...   \n",
       "98  Dorothy Arzner was an American film director, known for her signif...   \n",
       "99  Moya Brennan began performing professionally in 1970, while David ...   \n",
       "\n",
       "                                                              pred_answer  \\\n",
       "0                                                        The Great Escape   \n",
       "1               Robert Kardashian's family had their own reality TV show.   \n",
       "2   There is no information available about a Russian ballerina in \"Sh...   \n",
       "3   The meaning of the name of the man who appointed Amashsai, Nehemia...   \n",
       "4   In addition to the Austrian passport, Austrian citizens may need t...   \n",
       "..                                                                    ...   \n",
       "95                                                                   2007   \n",
       "96        The title characters are garden gnomes named Gnomeo and Juliet.   \n",
       "97                                     Saint Mary's College of California   \n",
       "98  No, both Dorothy Arzner and Richard Wallace were American film dir...   \n",
       "99   Moya Brennan started recording/performing earlier than David Donato.   \n",
       "\n",
       "   answer_exact_match  \n",
       "0           ✔️ [True]  \n",
       "1                      \n",
       "2                      \n",
       "3                      \n",
       "4                      \n",
       "..                ...  \n",
       "95                     \n",
       "96                     \n",
       "97          ✔️ [True]  \n",
       "98                     \n",
       "99                     \n",
       "\n",
       "[100 rows x 6 columns]"
      ]
     },
     "metadata": {},
     "output_type": "display_data"
    },
    {
     "name": "stdout",
     "output_type": "stream",
     "text": [
      "🏃 View run eval at: http://localhost:8080/#/experiments/322957703646966226/runs/2ec04c4b98814cfe93bbc85ce783e06f\n",
      "🧪 View experiment at: http://localhost:8080/#/experiments/322957703646966226\n",
      "Original score: 29.0\n"
     ]
    },
    {
     "data": {
      "text/html": [
       "\n",
       "<div>\n",
       "  <style scoped>\n",
       "  button {\n",
       "    border: none;\n",
       "    border-radius: 4px;\n",
       "    background-color: rgb(34, 114, 180);\n",
       "    font-family: -apple-system, \"system-ui\", \"Segoe UI\", Roboto, \"Helvetica Neue\", Arial;\n",
       "    font-size: 13px;\n",
       "    color: white;\n",
       "    margin-top: 8px;\n",
       "    margin-bottom: 8px;\n",
       "    padding: 8px 16px;\n",
       "    cursor: pointer;\n",
       "  }\n",
       "  button:hover {\n",
       "    background-color: rgb(66, 153, 224);\n",
       "  }\n",
       "  </style>\n",
       "  <button\n",
       "    onclick=\"\n",
       "        const display = this.nextElementSibling.style.display;\n",
       "        const isCollapsed = display === 'none';\n",
       "        this.nextElementSibling.style.display = isCollapsed ? null : 'none';\n",
       "\n",
       "        const verb = isCollapsed ? 'Collapse' : 'Expand';\n",
       "        this.innerText = `${verb} MLflow Trace`;\n",
       "    \"\n",
       "  >Collapse MLflow Trace</button>\n",
       "  <iframe\n",
       "    id=\"trace-renderer\"\n",
       "    style=\"width: 100%; height: 500px; border: none; resize: vertical;\"\n",
       "    src=\"http://localhost:8080/static-files/lib/notebook-trace-renderer/index.html?trace_id=e9aeca8d782d41ceb336e2871e8229e8&amp;experiment_id=322957703646966226&amp;trace_id=534a917c5f2040c3b63e08803c610969&amp;experiment_id=322957703646966226&amp;trace_id=389901127b844c31bcfce117434ed99d&amp;experiment_id=322957703646966226&amp;trace_id=fe11e919b58a4654b307d7fe200fbe37&amp;experiment_id=322957703646966226&amp;trace_id=9c7910a884ef4e8fbdc2752c6bfb22d5&amp;experiment_id=322957703646966226&amp;trace_id=60fa5419b01d48d5b3c2738f96a0d694&amp;experiment_id=322957703646966226&amp;trace_id=67ea24b1c2cf42aea541ae145262fe13&amp;experiment_id=322957703646966226&amp;trace_id=55ae6892988643a494135f420f750b8d&amp;experiment_id=322957703646966226&amp;trace_id=2dd3c2fb271e4c2494d80eed292dbc13&amp;experiment_id=322957703646966226&amp;trace_id=cb38ab762a9b4fc9bc17fc63cb4cc72b&amp;experiment_id=322957703646966226&amp;version=3.1.0\"\n",
       "  />\n",
       "</div>\n"
      ],
      "text/plain": [
       "[Trace(trace_id=e9aeca8d782d41ceb336e2871e8229e8), Trace(trace_id=534a917c5f2040c3b63e08803c610969), Trace(trace_id=389901127b844c31bcfce117434ed99d), Trace(trace_id=fe11e919b58a4654b307d7fe200fbe37), Trace(trace_id=9c7910a884ef4e8fbdc2752c6bfb22d5), Trace(trace_id=60fa5419b01d48d5b3c2738f96a0d694), Trace(trace_id=67ea24b1c2cf42aea541ae145262fe13), Trace(trace_id=55ae6892988643a494135f420f750b8d), Trace(trace_id=2dd3c2fb271e4c2494d80eed292dbc13), Trace(trace_id=cb38ab762a9b4fc9bc17fc63cb4cc72b)]"
      ]
     },
     "metadata": {},
     "output_type": "display_data"
    }
   ],
   "source": [
    "original_score = evaluator(react)\n",
    "print(f\"Original score: {original_score}\")"
   ]
  },
  {
   "cell_type": "code",
   "execution_count": 35,
   "id": "04908bc3-acf1-4089-ad76-579b355c0b99",
   "metadata": {
    "height": 47
   },
   "outputs": [
    {
     "name": "stdout",
     "output_type": "stream",
     "text": [
      "Average Metric: 56.00 / 100 (56.0%): 100%|██████████| 100/100 [00:03<00:00, 33.23it/s]"
     ]
    },
    {
     "name": "stderr",
     "output_type": "stream",
     "text": [
      "2025/06/14 11:38:00 INFO dspy.evaluate.evaluate: Average Metric: 56 / 100 (56.0%)\n"
     ]
    },
    {
     "name": "stdout",
     "output_type": "stream",
     "text": [
      "\n"
     ]
    },
    {
     "data": {
      "text/html": [
       "<div>\n",
       "<style scoped>\n",
       "    .dataframe tbody tr th:only-of-type {\n",
       "        vertical-align: middle;\n",
       "    }\n",
       "\n",
       "    .dataframe tbody tr th {\n",
       "        vertical-align: top;\n",
       "    }\n",
       "\n",
       "    .dataframe thead th {\n",
       "        text-align: right;\n",
       "    }\n",
       "</style>\n",
       "<table border=\"1\" class=\"dataframe\">\n",
       "  <thead>\n",
       "    <tr style=\"text-align: right;\">\n",
       "      <th></th>\n",
       "      <th>question</th>\n",
       "      <th>example_answer</th>\n",
       "      <th>trajectory</th>\n",
       "      <th>reasoning</th>\n",
       "      <th>pred_answer</th>\n",
       "      <th>answer_exact_match</th>\n",
       "    </tr>\n",
       "  </thead>\n",
       "  <tbody>\n",
       "    <tr>\n",
       "      <th>0</th>\n",
       "      <td>What movie did \"the king of cool\" play in with Bud Ekins as his st...</td>\n",
       "      <td>\"The Great Escape\"</td>\n",
       "      <td>{'thought_0': 'I need to find out which movie \"the king of cool\" s...</td>\n",
       "      <td>Steve McQueen, often referred to as \"the king of cool,\" starred in...</td>\n",
       "      <td>The Great Escape</td>\n",
       "      <td>✔️ [True]</td>\n",
       "    </tr>\n",
       "    <tr>\n",
       "      <th>1</th>\n",
       "      <td>whos family had their own reality tv show. Robert Kardashian or Ma...</td>\n",
       "      <td>their family reality television series</td>\n",
       "      <td>{'thought_0': 'I need to find out which family had their own reali...</td>\n",
       "      <td>I found that Robert Kardashian's family had their own reality TV s...</td>\n",
       "      <td>Robert Kardashian</td>\n",
       "      <td></td>\n",
       "    </tr>\n",
       "    <tr>\n",
       "      <th>2</th>\n",
       "      <td>Which star in Shadows in Paradise is a Russian ballerina?</td>\n",
       "      <td>Sofya Skya</td>\n",
       "      <td>{'thought_0': 'I need to find out which star in \"Shadows in Paradi...</td>\n",
       "      <td>The searches conducted did not yield specific information about a ...</td>\n",
       "      <td>No specific information found regarding a Russian ballerina in \"Sh...</td>\n",
       "      <td></td>\n",
       "    </tr>\n",
       "    <tr>\n",
       "      <th>3</th>\n",
       "      <td>What was the meaning of the name of the man who appointed Amashsai?</td>\n",
       "      <td>comforter</td>\n",
       "      <td>{'thought_0': \"I need to find out who appointed Amashsai and the m...</td>\n",
       "      <td>Amashsai was appointed by Nehemiah. The name \"Nehemiah\" means \"Yah...</td>\n",
       "      <td>\"Yahweh comforts\"</td>\n",
       "      <td></td>\n",
       "    </tr>\n",
       "    <tr>\n",
       "      <th>4</th>\n",
       "      <td>In addition to the Austrian passport, what is needed to gain acces...</td>\n",
       "      <td>national identity card</td>\n",
       "      <td>{'thought_0': 'I need to find out what additional requirements are...</td>\n",
       "      <td>The search results indicate that Austrian citizens have visa-free ...</td>\n",
       "      <td>A valid passport</td>\n",
       "      <td></td>\n",
       "    </tr>\n",
       "    <tr>\n",
       "      <th>...</th>\n",
       "      <td>...</td>\n",
       "      <td>...</td>\n",
       "      <td>...</td>\n",
       "      <td>...</td>\n",
       "      <td>...</td>\n",
       "      <td>...</td>\n",
       "    </tr>\n",
       "    <tr>\n",
       "      <th>95</th>\n",
       "      <td>What date did the American actress and singer-songwriter, known fo...</td>\n",
       "      <td>April 19, 1994</td>\n",
       "      <td>{'thought_0': 'I need to find out the release date of the first al...</td>\n",
       "      <td>Katey Sagal, known for her role as Peggy Bundy, released her first...</td>\n",
       "      <td>April 19, 1994</td>\n",
       "      <td>✔️ [True]</td>\n",
       "    </tr>\n",
       "    <tr>\n",
       "      <th>96</th>\n",
       "      <td>What animated creatures were the title characters of the film whic...</td>\n",
       "      <td>seals</td>\n",
       "      <td>{'thought_0': \"I need to identify the animated creatures that were...</td>\n",
       "      <td>The animated film \"Gnomeo &amp; Juliet\" is based on William Shakespear...</td>\n",
       "      <td>Gnomeo and Juliet</td>\n",
       "      <td></td>\n",
       "    </tr>\n",
       "    <tr>\n",
       "      <th>97</th>\n",
       "      <td>The 1925 Saint Mary's Gaels football team represented what private...</td>\n",
       "      <td>Saint Mary's College of California</td>\n",
       "      <td>{'thought_0': \"I need to find out which private, coeducational col...</td>\n",
       "      <td>The 1925 Saint Mary's Gaels football team represented Saint Mary's...</td>\n",
       "      <td>Saint Mary's College of California</td>\n",
       "      <td>✔️ [True]</td>\n",
       "    </tr>\n",
       "    <tr>\n",
       "      <th>98</th>\n",
       "      <td>Were Dorothy Arzner and Richard Wallace both French film directors?</td>\n",
       "      <td>no</td>\n",
       "      <td>{'thought_0': 'I need to determine the nationalities of both Dorot...</td>\n",
       "      <td>I found that Dorothy Arzner was an American film director. Additio...</td>\n",
       "      <td>No</td>\n",
       "      <td>✔️ [True]</td>\n",
       "    </tr>\n",
       "    <tr>\n",
       "      <th>99</th>\n",
       "      <td>Which artist started recording/performing earlier David Donato or ...</td>\n",
       "      <td>Moya Brennan</td>\n",
       "      <td>{'thought_0': 'I need to find out the recording or performing star...</td>\n",
       "      <td>Moya Brennan began performing professionally in 1970, while David ...</td>\n",
       "      <td>Moya Brennan</td>\n",
       "      <td>✔️ [True]</td>\n",
       "    </tr>\n",
       "  </tbody>\n",
       "</table>\n",
       "<p>100 rows × 6 columns</p>\n",
       "</div>"
      ],
      "text/plain": [
       "                                                                 question  \\\n",
       "0   What movie did \"the king of cool\" play in with Bud Ekins as his st...   \n",
       "1   whos family had their own reality tv show. Robert Kardashian or Ma...   \n",
       "2               Which star in Shadows in Paradise is a Russian ballerina?   \n",
       "3     What was the meaning of the name of the man who appointed Amashsai?   \n",
       "4   In addition to the Austrian passport, what is needed to gain acces...   \n",
       "..                                                                    ...   \n",
       "95  What date did the American actress and singer-songwriter, known fo...   \n",
       "96  What animated creatures were the title characters of the film whic...   \n",
       "97  The 1925 Saint Mary's Gaels football team represented what private...   \n",
       "98    Were Dorothy Arzner and Richard Wallace both French film directors?   \n",
       "99  Which artist started recording/performing earlier David Donato or ...   \n",
       "\n",
       "                            example_answer  \\\n",
       "0                       \"The Great Escape\"   \n",
       "1   their family reality television series   \n",
       "2                               Sofya Skya   \n",
       "3                                comforter   \n",
       "4                   national identity card   \n",
       "..                                     ...   \n",
       "95                          April 19, 1994   \n",
       "96                                   seals   \n",
       "97      Saint Mary's College of California   \n",
       "98                                      no   \n",
       "99                            Moya Brennan   \n",
       "\n",
       "                                                               trajectory  \\\n",
       "0   {'thought_0': 'I need to find out which movie \"the king of cool\" s...   \n",
       "1   {'thought_0': 'I need to find out which family had their own reali...   \n",
       "2   {'thought_0': 'I need to find out which star in \"Shadows in Paradi...   \n",
       "3   {'thought_0': \"I need to find out who appointed Amashsai and the m...   \n",
       "4   {'thought_0': 'I need to find out what additional requirements are...   \n",
       "..                                                                    ...   \n",
       "95  {'thought_0': 'I need to find out the release date of the first al...   \n",
       "96  {'thought_0': \"I need to identify the animated creatures that were...   \n",
       "97  {'thought_0': \"I need to find out which private, coeducational col...   \n",
       "98  {'thought_0': 'I need to determine the nationalities of both Dorot...   \n",
       "99  {'thought_0': 'I need to find out the recording or performing star...   \n",
       "\n",
       "                                                                reasoning  \\\n",
       "0   Steve McQueen, often referred to as \"the king of cool,\" starred in...   \n",
       "1   I found that Robert Kardashian's family had their own reality TV s...   \n",
       "2   The searches conducted did not yield specific information about a ...   \n",
       "3   Amashsai was appointed by Nehemiah. The name \"Nehemiah\" means \"Yah...   \n",
       "4   The search results indicate that Austrian citizens have visa-free ...   \n",
       "..                                                                    ...   \n",
       "95  Katey Sagal, known for her role as Peggy Bundy, released her first...   \n",
       "96  The animated film \"Gnomeo & Juliet\" is based on William Shakespear...   \n",
       "97  The 1925 Saint Mary's Gaels football team represented Saint Mary's...   \n",
       "98  I found that Dorothy Arzner was an American film director. Additio...   \n",
       "99  Moya Brennan began performing professionally in 1970, while David ...   \n",
       "\n",
       "                                                              pred_answer  \\\n",
       "0                                                        The Great Escape   \n",
       "1                                                       Robert Kardashian   \n",
       "2   No specific information found regarding a Russian ballerina in \"Sh...   \n",
       "3                                                       \"Yahweh comforts\"   \n",
       "4                                                        A valid passport   \n",
       "..                                                                    ...   \n",
       "95                                                         April 19, 1994   \n",
       "96                                                      Gnomeo and Juliet   \n",
       "97                                     Saint Mary's College of California   \n",
       "98                                                                     No   \n",
       "99                                                           Moya Brennan   \n",
       "\n",
       "   answer_exact_match  \n",
       "0           ✔️ [True]  \n",
       "1                      \n",
       "2                      \n",
       "3                      \n",
       "4                      \n",
       "..                ...  \n",
       "95          ✔️ [True]  \n",
       "96                     \n",
       "97          ✔️ [True]  \n",
       "98          ✔️ [True]  \n",
       "99          ✔️ [True]  \n",
       "\n",
       "[100 rows x 6 columns]"
      ]
     },
     "metadata": {},
     "output_type": "display_data"
    },
    {
     "name": "stdout",
     "output_type": "stream",
     "text": [
      "🏃 View run eval at: http://localhost:8080/#/experiments/322957703646966226/runs/bc98b2736965487280cb20d21dc227a3\n",
      "🧪 View experiment at: http://localhost:8080/#/experiments/322957703646966226\n",
      "Optimized score: 56.0\n"
     ]
    },
    {
     "data": {
      "text/html": [
       "\n",
       "<div>\n",
       "  <style scoped>\n",
       "  button {\n",
       "    border: none;\n",
       "    border-radius: 4px;\n",
       "    background-color: rgb(34, 114, 180);\n",
       "    font-family: -apple-system, \"system-ui\", \"Segoe UI\", Roboto, \"Helvetica Neue\", Arial;\n",
       "    font-size: 13px;\n",
       "    color: white;\n",
       "    margin-top: 8px;\n",
       "    margin-bottom: 8px;\n",
       "    padding: 8px 16px;\n",
       "    cursor: pointer;\n",
       "  }\n",
       "  button:hover {\n",
       "    background-color: rgb(66, 153, 224);\n",
       "  }\n",
       "  </style>\n",
       "  <button\n",
       "    onclick=\"\n",
       "        const display = this.nextElementSibling.style.display;\n",
       "        const isCollapsed = display === 'none';\n",
       "        this.nextElementSibling.style.display = isCollapsed ? null : 'none';\n",
       "\n",
       "        const verb = isCollapsed ? 'Collapse' : 'Expand';\n",
       "        this.innerText = `${verb} MLflow Trace`;\n",
       "    \"\n",
       "  >Collapse MLflow Trace</button>\n",
       "  <iframe\n",
       "    id=\"trace-renderer\"\n",
       "    style=\"width: 100%; height: 500px; border: none; resize: vertical;\"\n",
       "    src=\"http://localhost:8080/static-files/lib/notebook-trace-renderer/index.html?trace_id=9f5b8384eb6f4d888ec80e7c56f7d889&amp;experiment_id=322957703646966226&amp;trace_id=6b49b331904344289df8fa3edf4b8051&amp;experiment_id=322957703646966226&amp;trace_id=1eb5c781857e44cba7a7371d42b7cc8c&amp;experiment_id=322957703646966226&amp;trace_id=e902ec5a6fc241aaa93715ccd69ae4f1&amp;experiment_id=322957703646966226&amp;trace_id=3951969c4c6f48e398cfd1d938a38e74&amp;experiment_id=322957703646966226&amp;trace_id=7d0d1cc6d4fd46ea950ba60ec166ab60&amp;experiment_id=322957703646966226&amp;trace_id=d8ddc222ff16447da108c898d92d03aa&amp;experiment_id=322957703646966226&amp;trace_id=d1b1f5ac3aa54095a31c56aa60320d6d&amp;experiment_id=322957703646966226&amp;trace_id=bcedaef6af7b4f02aa3053e58239ce09&amp;experiment_id=322957703646966226&amp;trace_id=ce7a1a40893e472bae4c183ec98d606a&amp;experiment_id=322957703646966226&amp;version=3.1.0\"\n",
       "  />\n",
       "</div>\n"
      ],
      "text/plain": [
       "[Trace(trace_id=9f5b8384eb6f4d888ec80e7c56f7d889), Trace(trace_id=6b49b331904344289df8fa3edf4b8051), Trace(trace_id=1eb5c781857e44cba7a7371d42b7cc8c), Trace(trace_id=e902ec5a6fc241aaa93715ccd69ae4f1), Trace(trace_id=3951969c4c6f48e398cfd1d938a38e74), Trace(trace_id=7d0d1cc6d4fd46ea950ba60ec166ab60), Trace(trace_id=d8ddc222ff16447da108c898d92d03aa), Trace(trace_id=d1b1f5ac3aa54095a31c56aa60320d6d), Trace(trace_id=bcedaef6af7b4f02aa3053e58239ce09), Trace(trace_id=ce7a1a40893e472bae4c183ec98d606a)]"
      ]
     },
     "metadata": {},
     "output_type": "display_data"
    }
   ],
   "source": [
    "optimized_score = evaluator(optimized_react)\n",
    "print(f\"Optimized score: {optimized_score}\")"
   ]
  },
  {
   "cell_type": "code",
   "execution_count": null,
   "id": "26f909c3-c4b3-45d9-9723-5262cda7385d",
   "metadata": {
    "height": 30
   },
   "outputs": [],
   "source": []
  },
  {
   "cell_type": "code",
   "execution_count": null,
   "id": "33ad44e3-1c4e-44f0-bea8-d0a0c97942ff",
   "metadata": {
    "height": 30
   },
   "outputs": [],
   "source": []
  },
  {
   "cell_type": "code",
   "execution_count": null,
   "id": "16f6e622-4ed5-48ca-9846-0272f0688638",
   "metadata": {
    "height": 30
   },
   "outputs": [],
   "source": []
  },
  {
   "cell_type": "code",
   "execution_count": null,
   "id": "a424f60c-25b4-47ab-a16f-18a18f682f54",
   "metadata": {
    "height": 30
   },
   "outputs": [],
   "source": []
  },
  {
   "cell_type": "code",
   "execution_count": null,
   "id": "8dd42552-380a-4691-9438-66a00d0464ef",
   "metadata": {
    "height": 30
   },
   "outputs": [],
   "source": []
  },
  {
   "cell_type": "code",
   "execution_count": null,
   "id": "ccd4ff3d-b390-4f8e-81e2-4164aca4f728",
   "metadata": {
    "height": 30
   },
   "outputs": [],
   "source": []
  },
  {
   "cell_type": "code",
   "execution_count": null,
   "id": "a9d39963-d05e-49d9-95b4-4d49b3c9b8e3",
   "metadata": {
    "height": 30
   },
   "outputs": [],
   "source": []
  },
  {
   "cell_type": "code",
   "execution_count": null,
   "id": "9ae05563-3668-44d9-94ba-e2b498b1b559",
   "metadata": {
    "height": 30
   },
   "outputs": [],
   "source": []
  }
 ],
 "metadata": {
  "kernelspec": {
   "display_name": ".venv",
   "language": "python",
   "name": "python3"
  },
  "language_info": {
   "codemirror_mode": {
    "name": "ipython",
    "version": 3
   },
   "file_extension": ".py",
   "mimetype": "text/x-python",
   "name": "python",
   "nbconvert_exporter": "python",
   "pygments_lexer": "ipython3",
   "version": "3.13.1"
  }
 },
 "nbformat": 4,
 "nbformat_minor": 5
}
